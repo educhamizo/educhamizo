{
 "cells": [
  {
   "cell_type": "markdown",
   "metadata": {
    "id": "W4HjPODIbGV0"
   },
   "source": [
    "# **WCGAN**"
   ]
  },
  {
   "cell_type": "code",
   "execution_count": 1,
   "metadata": {
    "colab": {
     "base_uri": "https://localhost:8080/",
     "height": 316
    },
    "execution": {
     "iopub.execute_input": "2025-05-03T10:04:35.837294Z",
     "iopub.status.busy": "2025-05-03T10:04:35.837108Z",
     "iopub.status.idle": "2025-05-03T10:04:48.391611Z",
     "shell.execute_reply": "2025-05-03T10:04:48.390979Z",
     "shell.execute_reply.started": "2025-05-03T10:04:35.837278Z"
    },
    "id": "9bVpf4d2zXz6",
    "outputId": "b48e99a2-2d4e-4624-c552-8d44d5f2e300",
    "trusted": true
   },
   "outputs": [
    {
     "name": "stderr",
     "output_type": "stream",
     "text": [
      "2025-05-03 10:04:37.105789: E external/local_xla/xla/stream_executor/cuda/cuda_fft.cc:477] Unable to register cuFFT factory: Attempting to register factory for plugin cuFFT when one has already been registered\n",
      "WARNING: All log messages before absl::InitializeLog() is called are written to STDERR\n",
      "E0000 00:00:1746266677.278464      31 cuda_dnn.cc:8310] Unable to register cuDNN factory: Attempting to register factory for plugin cuDNN when one has already been registered\n",
      "E0000 00:00:1746266677.329083      31 cuda_blas.cc:1418] Unable to register cuBLAS factory: Attempting to register factory for plugin cuBLAS when one has already been registered\n"
     ]
    }
   ],
   "source": [
    "import tensorflow as tf\n",
    "tf.keras.backend.clear_session()"
   ]
  },
  {
   "cell_type": "code",
   "execution_count": 2,
   "metadata": {
    "execution": {
     "iopub.execute_input": "2025-05-03T10:04:48.392768Z",
     "iopub.status.busy": "2025-05-03T10:04:48.392380Z",
     "iopub.status.idle": "2025-05-03T10:04:48.799780Z",
     "shell.execute_reply": "2025-05-03T10:04:48.799237Z",
     "shell.execute_reply.started": "2025-05-03T10:04:48.392749Z"
    },
    "id": "phYCfETHbGV0",
    "trusted": true
   },
   "outputs": [],
   "source": [
    "import pandas as pd\n",
    "import keras as keras\n",
    "from tensorflow import keras\n",
    "from tensorflow.keras import Sequential,layers\n",
    "from tensorflow.keras.layers import Dense , Flatten, UpSampling2D, Conv2D, Dropout, LeakyReLU\n",
    "from sklearn.model_selection import train_test_split\n",
    "import matplotlib.pyplot as plt\n",
    "import numpy as np\n",
    "from keras.utils import to_categorical\n",
    "from keras import models\n",
    "from keras import layers\n",
    "from keras.utils import to_categorical\n",
    "from keras.datasets import fashion_mnist\n",
    "import tensorflow as tf\n",
    "from tensorflow.keras.models import Model\n",
    "from tensorflow.keras.optimizers import Adam\n",
    "from tensorflow.keras.losses import BinaryCrossentropy\n",
    "import os\n",
    "import re\n",
    "import warnings\n",
    "\n",
    "import numpy as np\n",
    "from tensorflow.keras.optimizers import Adam\n",
    "from keras.src import backend\n",
    "from keras.src.api_export import keras_export\n",
    "from keras.src.callbacks.callback import Callback\n",
    "from keras.src.utils import file_utils\n",
    "from keras.src.utils import io_utils\n",
    "from tensorflow.keras.layers import Dense, Reshape, Conv2DTranspose, BatchNormalization\n",
    "from keras.models import Sequential"
   ]
  },
  {
   "cell_type": "code",
   "execution_count": null,
   "metadata": {
    "execution": {
     "iopub.execute_input": "2025-05-03T10:04:48.802210Z",
     "iopub.status.busy": "2025-05-03T10:04:48.801533Z",
     "iopub.status.idle": "2025-05-03T10:04:55.648220Z",
     "shell.execute_reply": "2025-05-03T10:04:55.647414Z",
     "shell.execute_reply.started": "2025-05-03T10:04:48.802189Z"
    },
    "id": "bHdyvmdrbGV1",
    "trusted": true
   },
   "outputs": [
    {
     "name": "stdout",
     "output_type": "stream",
     "text": [
      "Downloading data from https://storage.googleapis.com/tensorflow/tf-keras-datasets/train-labels-idx1-ubyte.gz\n",
      "\u001b[1m29515/29515\u001b[0m \u001b[32m━━━━━━━━━━━━━━━━━━━━\u001b[0m\u001b[37m\u001b[0m \u001b[1m0s\u001b[0m 0us/step\n",
      "Downloading data from https://storage.googleapis.com/tensorflow/tf-keras-datasets/train-images-idx3-ubyte.gz\n",
      "\u001b[1m26421880/26421880\u001b[0m \u001b[32m━━━━━━━━━━━━━━━━━━━━\u001b[0m\u001b[37m\u001b[0m \u001b[1m2s\u001b[0m 0us/step\n",
      "Downloading data from https://storage.googleapis.com/tensorflow/tf-keras-datasets/t10k-labels-idx1-ubyte.gz\n",
      "\u001b[1m5148/5148\u001b[0m \u001b[32m━━━━━━━━━━━━━━━━━━━━\u001b[0m\u001b[37m\u001b[0m \u001b[1m0s\u001b[0m 0us/step\n",
      "Downloading data from https://storage.googleapis.com/tensorflow/tf-keras-datasets/t10k-images-idx3-ubyte.gz\n",
      "\u001b[1m4422102/4422102\u001b[0m \u001b[32m━━━━━━━━━━━━━━━━━━━━\u001b[0m\u001b[37m\u001b[0m \u001b[1m1s\u001b[0m 0us/step\n"
     ]
    }
   ],
   "source": [
    "ds = tf.keras.datasets.fashion_mnist\n",
    "(x_train, y_train), (x_test, y_test) = ds.load_data() \n",
    "batch_size = 128\n",
    "latent_dim = 128"
   ]
  },
  {
   "cell_type": "code",
   "execution_count": null,
   "metadata": {
    "execution": {
     "iopub.execute_input": "2025-05-03T10:04:55.649302Z",
     "iopub.status.busy": "2025-05-03T10:04:55.649077Z",
     "iopub.status.idle": "2025-05-03T10:04:55.940634Z",
     "shell.execute_reply": "2025-05-03T10:04:55.939868Z",
     "shell.execute_reply.started": "2025-05-03T10:04:55.649285Z"
    },
    "trusted": true
   },
   "outputs": [],
   "source": [
    "def scale_images(train, test):\n",
    "    train_norm = train.astype('float32')\n",
    "    test_norm = test.astype('float32')\n",
    "    train_norm = (train_norm - 127.5) / 127.5\n",
    "    test_norm = (test_norm - 127.5) / 127.5\n",
    "    return train_norm, test_norm\n",
    "\n",
    "x_train, x_test = scale_images(x_train, x_test)\n",
    "np.random.shuffle(x_train)"
   ]
  },
  {
   "cell_type": "code",
   "execution_count": null,
   "metadata": {
    "execution": {
     "iopub.execute_input": "2025-05-03T10:04:55.941727Z",
     "iopub.status.busy": "2025-05-03T10:04:55.941486Z",
     "iopub.status.idle": "2025-05-03T10:04:55.948093Z",
     "shell.execute_reply": "2025-05-03T10:04:55.947393Z",
     "shell.execute_reply.started": "2025-05-03T10:04:55.941701Z"
    },
    "id": "WJWaQh40bGV1",
    "trusted": true
   },
   "outputs": [],
   "source": [
    "def build_generator():\n",
    "  model = Sequential()\n",
    "\n",
    "  #toma valores random y los convierte en 7x7x128 - comienzo de generación de imágenes\n",
    "  model.add(Dense(7*7*128, input_dim=128))  #para convertir los 128 valores random en imagenes de 7x7 (darles algo de dimensión espacial)\n",
    "  model.add(layers.LeakyReLU(alpha=0.2))\n",
    "  model.add(layers.Reshape((7, 7, 128)))\n",
    "\n",
    "  model.add(Conv2DTranspose(128,4,strides=2, padding='same')) #128 unidades para preservar el número de canales\n",
    "  model.add(layers.LeakyReLU(alpha=0.2))\n",
    "  model.add(BatchNormalization())\n",
    "\n",
    "  model.add(Conv2DTranspose(1,4,strides=2,padding='same'))\n",
    "  model.add(layers.LeakyReLU(alpha=0.2))\n",
    "  model.add(BatchNormalization())\n",
    "\n",
    "  # podríamos parar si pusiéramos 1 unidad en vez de 128 aquí porque ya conseguiríamos 28x28x1 pero voy a seguir construyendo\n",
    "  model.add(Conv2D(128, 4, padding='same'))\n",
    "  model.add(layers.LeakyReLU(alpha=0.2))\n",
    "\n",
    "  model.add(Conv2D(128,4,padding='same'))\n",
    "  model.add(layers.LeakyReLU(alpha=0.2))\n",
    "\n",
    "  model.add(Conv2D(128,4,padding='same'))\n",
    "  model.add(layers.LeakyReLU(alpha=0.2))\n",
    "\n",
    "  #capa convolucional para obtener 1 canal\n",
    "  model.add(Conv2D(1, 4, padding='same',activation='tanh')) #1 kernel de tamaño 4x4, padding=same indica que mantendremos 28x28\n",
    "  return model"
   ]
  },
  {
   "cell_type": "code",
   "execution_count": 6,
   "metadata": {
    "colab": {
     "base_uri": "https://localhost:8080/",
     "height": 734
    },
    "execution": {
     "iopub.execute_input": "2025-05-03T10:04:55.949137Z",
     "iopub.status.busy": "2025-05-03T10:04:55.948815Z",
     "iopub.status.idle": "2025-05-03T10:04:58.124028Z",
     "shell.execute_reply": "2025-05-03T10:04:58.123469Z",
     "shell.execute_reply.started": "2025-05-03T10:04:55.949108Z"
    },
    "id": "vxE_GeUEbGV1",
    "outputId": "288671d0-9e44-440a-9b1b-9b9778c87a6a",
    "trusted": true
   },
   "outputs": [
    {
     "name": "stderr",
     "output_type": "stream",
     "text": [
      "/usr/local/lib/python3.11/dist-packages/keras/src/layers/core/dense.py:87: UserWarning: Do not pass an `input_shape`/`input_dim` argument to a layer. When using Sequential models, prefer using an `Input(shape)` object as the first layer in the model instead.\n",
      "  super().__init__(activity_regularizer=activity_regularizer, **kwargs)\n",
      "I0000 00:00:1746266696.878847      31 gpu_device.cc:2022] Created device /job:localhost/replica:0/task:0/device:GPU:0 with 15513 MB memory:  -> device: 0, name: Tesla P100-PCIE-16GB, pci bus id: 0000:00:04.0, compute capability: 6.0\n",
      "/usr/local/lib/python3.11/dist-packages/keras/src/layers/activations/leaky_relu.py:41: UserWarning: Argument `alpha` is deprecated. Use `negative_slope` instead.\n",
      "  warnings.warn(\n"
     ]
    },
    {
     "data": {
      "text/html": [
       "<pre style=\"white-space:pre;overflow-x:auto;line-height:normal;font-family:Menlo,'DejaVu Sans Mono',consolas,'Courier New',monospace\"><span style=\"font-weight: bold\">Model: \"sequential\"</span>\n",
       "</pre>\n"
      ],
      "text/plain": [
       "\u001b[1mModel: \"sequential\"\u001b[0m\n"
      ]
     },
     "metadata": {},
     "output_type": "display_data"
    },
    {
     "data": {
      "text/html": [
       "<pre style=\"white-space:pre;overflow-x:auto;line-height:normal;font-family:Menlo,'DejaVu Sans Mono',consolas,'Courier New',monospace\">┏━━━━━━━━━━━━━━━━━━━━━━━━━━━━━━━━━━━━━━┳━━━━━━━━━━━━━━━━━━━━━━━━━━━━━┳━━━━━━━━━━━━━━━━━┓\n",
       "┃<span style=\"font-weight: bold\"> Layer (type)                         </span>┃<span style=\"font-weight: bold\"> Output Shape                </span>┃<span style=\"font-weight: bold\">         Param # </span>┃\n",
       "┡━━━━━━━━━━━━━━━━━━━━━━━━━━━━━━━━━━━━━━╇━━━━━━━━━━━━━━━━━━━━━━━━━━━━━╇━━━━━━━━━━━━━━━━━┩\n",
       "│ dense (<span style=\"color: #0087ff; text-decoration-color: #0087ff\">Dense</span>)                        │ (<span style=\"color: #00d7ff; text-decoration-color: #00d7ff\">None</span>, <span style=\"color: #00af00; text-decoration-color: #00af00\">6272</span>)                │         <span style=\"color: #00af00; text-decoration-color: #00af00\">809,088</span> │\n",
       "├──────────────────────────────────────┼─────────────────────────────┼─────────────────┤\n",
       "│ leaky_re_lu (<span style=\"color: #0087ff; text-decoration-color: #0087ff\">LeakyReLU</span>)              │ (<span style=\"color: #00d7ff; text-decoration-color: #00d7ff\">None</span>, <span style=\"color: #00af00; text-decoration-color: #00af00\">6272</span>)                │               <span style=\"color: #00af00; text-decoration-color: #00af00\">0</span> │\n",
       "├──────────────────────────────────────┼─────────────────────────────┼─────────────────┤\n",
       "│ reshape (<span style=\"color: #0087ff; text-decoration-color: #0087ff\">Reshape</span>)                    │ (<span style=\"color: #00d7ff; text-decoration-color: #00d7ff\">None</span>, <span style=\"color: #00af00; text-decoration-color: #00af00\">7</span>, <span style=\"color: #00af00; text-decoration-color: #00af00\">7</span>, <span style=\"color: #00af00; text-decoration-color: #00af00\">128</span>)           │               <span style=\"color: #00af00; text-decoration-color: #00af00\">0</span> │\n",
       "├──────────────────────────────────────┼─────────────────────────────┼─────────────────┤\n",
       "│ conv2d_transpose (<span style=\"color: #0087ff; text-decoration-color: #0087ff\">Conv2DTranspose</span>)   │ (<span style=\"color: #00d7ff; text-decoration-color: #00d7ff\">None</span>, <span style=\"color: #00af00; text-decoration-color: #00af00\">14</span>, <span style=\"color: #00af00; text-decoration-color: #00af00\">14</span>, <span style=\"color: #00af00; text-decoration-color: #00af00\">128</span>)         │         <span style=\"color: #00af00; text-decoration-color: #00af00\">262,272</span> │\n",
       "├──────────────────────────────────────┼─────────────────────────────┼─────────────────┤\n",
       "│ leaky_re_lu_1 (<span style=\"color: #0087ff; text-decoration-color: #0087ff\">LeakyReLU</span>)            │ (<span style=\"color: #00d7ff; text-decoration-color: #00d7ff\">None</span>, <span style=\"color: #00af00; text-decoration-color: #00af00\">14</span>, <span style=\"color: #00af00; text-decoration-color: #00af00\">14</span>, <span style=\"color: #00af00; text-decoration-color: #00af00\">128</span>)         │               <span style=\"color: #00af00; text-decoration-color: #00af00\">0</span> │\n",
       "├──────────────────────────────────────┼─────────────────────────────┼─────────────────┤\n",
       "│ batch_normalization                  │ (<span style=\"color: #00d7ff; text-decoration-color: #00d7ff\">None</span>, <span style=\"color: #00af00; text-decoration-color: #00af00\">14</span>, <span style=\"color: #00af00; text-decoration-color: #00af00\">14</span>, <span style=\"color: #00af00; text-decoration-color: #00af00\">128</span>)         │             <span style=\"color: #00af00; text-decoration-color: #00af00\">512</span> │\n",
       "│ (<span style=\"color: #0087ff; text-decoration-color: #0087ff\">BatchNormalization</span>)                 │                             │                 │\n",
       "├──────────────────────────────────────┼─────────────────────────────┼─────────────────┤\n",
       "│ conv2d_transpose_1 (<span style=\"color: #0087ff; text-decoration-color: #0087ff\">Conv2DTranspose</span>) │ (<span style=\"color: #00d7ff; text-decoration-color: #00d7ff\">None</span>, <span style=\"color: #00af00; text-decoration-color: #00af00\">28</span>, <span style=\"color: #00af00; text-decoration-color: #00af00\">28</span>, <span style=\"color: #00af00; text-decoration-color: #00af00\">1</span>)           │           <span style=\"color: #00af00; text-decoration-color: #00af00\">2,049</span> │\n",
       "├──────────────────────────────────────┼─────────────────────────────┼─────────────────┤\n",
       "│ leaky_re_lu_2 (<span style=\"color: #0087ff; text-decoration-color: #0087ff\">LeakyReLU</span>)            │ (<span style=\"color: #00d7ff; text-decoration-color: #00d7ff\">None</span>, <span style=\"color: #00af00; text-decoration-color: #00af00\">28</span>, <span style=\"color: #00af00; text-decoration-color: #00af00\">28</span>, <span style=\"color: #00af00; text-decoration-color: #00af00\">1</span>)           │               <span style=\"color: #00af00; text-decoration-color: #00af00\">0</span> │\n",
       "├──────────────────────────────────────┼─────────────────────────────┼─────────────────┤\n",
       "│ batch_normalization_1                │ (<span style=\"color: #00d7ff; text-decoration-color: #00d7ff\">None</span>, <span style=\"color: #00af00; text-decoration-color: #00af00\">28</span>, <span style=\"color: #00af00; text-decoration-color: #00af00\">28</span>, <span style=\"color: #00af00; text-decoration-color: #00af00\">1</span>)           │               <span style=\"color: #00af00; text-decoration-color: #00af00\">4</span> │\n",
       "│ (<span style=\"color: #0087ff; text-decoration-color: #0087ff\">BatchNormalization</span>)                 │                             │                 │\n",
       "├──────────────────────────────────────┼─────────────────────────────┼─────────────────┤\n",
       "│ conv2d (<span style=\"color: #0087ff; text-decoration-color: #0087ff\">Conv2D</span>)                      │ (<span style=\"color: #00d7ff; text-decoration-color: #00d7ff\">None</span>, <span style=\"color: #00af00; text-decoration-color: #00af00\">28</span>, <span style=\"color: #00af00; text-decoration-color: #00af00\">28</span>, <span style=\"color: #00af00; text-decoration-color: #00af00\">128</span>)         │           <span style=\"color: #00af00; text-decoration-color: #00af00\">2,176</span> │\n",
       "├──────────────────────────────────────┼─────────────────────────────┼─────────────────┤\n",
       "│ leaky_re_lu_3 (<span style=\"color: #0087ff; text-decoration-color: #0087ff\">LeakyReLU</span>)            │ (<span style=\"color: #00d7ff; text-decoration-color: #00d7ff\">None</span>, <span style=\"color: #00af00; text-decoration-color: #00af00\">28</span>, <span style=\"color: #00af00; text-decoration-color: #00af00\">28</span>, <span style=\"color: #00af00; text-decoration-color: #00af00\">128</span>)         │               <span style=\"color: #00af00; text-decoration-color: #00af00\">0</span> │\n",
       "├──────────────────────────────────────┼─────────────────────────────┼─────────────────┤\n",
       "│ conv2d_1 (<span style=\"color: #0087ff; text-decoration-color: #0087ff\">Conv2D</span>)                    │ (<span style=\"color: #00d7ff; text-decoration-color: #00d7ff\">None</span>, <span style=\"color: #00af00; text-decoration-color: #00af00\">28</span>, <span style=\"color: #00af00; text-decoration-color: #00af00\">28</span>, <span style=\"color: #00af00; text-decoration-color: #00af00\">128</span>)         │         <span style=\"color: #00af00; text-decoration-color: #00af00\">262,272</span> │\n",
       "├──────────────────────────────────────┼─────────────────────────────┼─────────────────┤\n",
       "│ leaky_re_lu_4 (<span style=\"color: #0087ff; text-decoration-color: #0087ff\">LeakyReLU</span>)            │ (<span style=\"color: #00d7ff; text-decoration-color: #00d7ff\">None</span>, <span style=\"color: #00af00; text-decoration-color: #00af00\">28</span>, <span style=\"color: #00af00; text-decoration-color: #00af00\">28</span>, <span style=\"color: #00af00; text-decoration-color: #00af00\">128</span>)         │               <span style=\"color: #00af00; text-decoration-color: #00af00\">0</span> │\n",
       "├──────────────────────────────────────┼─────────────────────────────┼─────────────────┤\n",
       "│ conv2d_2 (<span style=\"color: #0087ff; text-decoration-color: #0087ff\">Conv2D</span>)                    │ (<span style=\"color: #00d7ff; text-decoration-color: #00d7ff\">None</span>, <span style=\"color: #00af00; text-decoration-color: #00af00\">28</span>, <span style=\"color: #00af00; text-decoration-color: #00af00\">28</span>, <span style=\"color: #00af00; text-decoration-color: #00af00\">128</span>)         │         <span style=\"color: #00af00; text-decoration-color: #00af00\">262,272</span> │\n",
       "├──────────────────────────────────────┼─────────────────────────────┼─────────────────┤\n",
       "│ leaky_re_lu_5 (<span style=\"color: #0087ff; text-decoration-color: #0087ff\">LeakyReLU</span>)            │ (<span style=\"color: #00d7ff; text-decoration-color: #00d7ff\">None</span>, <span style=\"color: #00af00; text-decoration-color: #00af00\">28</span>, <span style=\"color: #00af00; text-decoration-color: #00af00\">28</span>, <span style=\"color: #00af00; text-decoration-color: #00af00\">128</span>)         │               <span style=\"color: #00af00; text-decoration-color: #00af00\">0</span> │\n",
       "├──────────────────────────────────────┼─────────────────────────────┼─────────────────┤\n",
       "│ conv2d_3 (<span style=\"color: #0087ff; text-decoration-color: #0087ff\">Conv2D</span>)                    │ (<span style=\"color: #00d7ff; text-decoration-color: #00d7ff\">None</span>, <span style=\"color: #00af00; text-decoration-color: #00af00\">28</span>, <span style=\"color: #00af00; text-decoration-color: #00af00\">28</span>, <span style=\"color: #00af00; text-decoration-color: #00af00\">1</span>)           │           <span style=\"color: #00af00; text-decoration-color: #00af00\">2,049</span> │\n",
       "└──────────────────────────────────────┴─────────────────────────────┴─────────────────┘\n",
       "</pre>\n"
      ],
      "text/plain": [
       "┏━━━━━━━━━━━━━━━━━━━━━━━━━━━━━━━━━━━━━━┳━━━━━━━━━━━━━━━━━━━━━━━━━━━━━┳━━━━━━━━━━━━━━━━━┓\n",
       "┃\u001b[1m \u001b[0m\u001b[1mLayer (type)                        \u001b[0m\u001b[1m \u001b[0m┃\u001b[1m \u001b[0m\u001b[1mOutput Shape               \u001b[0m\u001b[1m \u001b[0m┃\u001b[1m \u001b[0m\u001b[1m        Param #\u001b[0m\u001b[1m \u001b[0m┃\n",
       "┡━━━━━━━━━━━━━━━━━━━━━━━━━━━━━━━━━━━━━━╇━━━━━━━━━━━━━━━━━━━━━━━━━━━━━╇━━━━━━━━━━━━━━━━━┩\n",
       "│ dense (\u001b[38;5;33mDense\u001b[0m)                        │ (\u001b[38;5;45mNone\u001b[0m, \u001b[38;5;34m6272\u001b[0m)                │         \u001b[38;5;34m809,088\u001b[0m │\n",
       "├──────────────────────────────────────┼─────────────────────────────┼─────────────────┤\n",
       "│ leaky_re_lu (\u001b[38;5;33mLeakyReLU\u001b[0m)              │ (\u001b[38;5;45mNone\u001b[0m, \u001b[38;5;34m6272\u001b[0m)                │               \u001b[38;5;34m0\u001b[0m │\n",
       "├──────────────────────────────────────┼─────────────────────────────┼─────────────────┤\n",
       "│ reshape (\u001b[38;5;33mReshape\u001b[0m)                    │ (\u001b[38;5;45mNone\u001b[0m, \u001b[38;5;34m7\u001b[0m, \u001b[38;5;34m7\u001b[0m, \u001b[38;5;34m128\u001b[0m)           │               \u001b[38;5;34m0\u001b[0m │\n",
       "├──────────────────────────────────────┼─────────────────────────────┼─────────────────┤\n",
       "│ conv2d_transpose (\u001b[38;5;33mConv2DTranspose\u001b[0m)   │ (\u001b[38;5;45mNone\u001b[0m, \u001b[38;5;34m14\u001b[0m, \u001b[38;5;34m14\u001b[0m, \u001b[38;5;34m128\u001b[0m)         │         \u001b[38;5;34m262,272\u001b[0m │\n",
       "├──────────────────────────────────────┼─────────────────────────────┼─────────────────┤\n",
       "│ leaky_re_lu_1 (\u001b[38;5;33mLeakyReLU\u001b[0m)            │ (\u001b[38;5;45mNone\u001b[0m, \u001b[38;5;34m14\u001b[0m, \u001b[38;5;34m14\u001b[0m, \u001b[38;5;34m128\u001b[0m)         │               \u001b[38;5;34m0\u001b[0m │\n",
       "├──────────────────────────────────────┼─────────────────────────────┼─────────────────┤\n",
       "│ batch_normalization                  │ (\u001b[38;5;45mNone\u001b[0m, \u001b[38;5;34m14\u001b[0m, \u001b[38;5;34m14\u001b[0m, \u001b[38;5;34m128\u001b[0m)         │             \u001b[38;5;34m512\u001b[0m │\n",
       "│ (\u001b[38;5;33mBatchNormalization\u001b[0m)                 │                             │                 │\n",
       "├──────────────────────────────────────┼─────────────────────────────┼─────────────────┤\n",
       "│ conv2d_transpose_1 (\u001b[38;5;33mConv2DTranspose\u001b[0m) │ (\u001b[38;5;45mNone\u001b[0m, \u001b[38;5;34m28\u001b[0m, \u001b[38;5;34m28\u001b[0m, \u001b[38;5;34m1\u001b[0m)           │           \u001b[38;5;34m2,049\u001b[0m │\n",
       "├──────────────────────────────────────┼─────────────────────────────┼─────────────────┤\n",
       "│ leaky_re_lu_2 (\u001b[38;5;33mLeakyReLU\u001b[0m)            │ (\u001b[38;5;45mNone\u001b[0m, \u001b[38;5;34m28\u001b[0m, \u001b[38;5;34m28\u001b[0m, \u001b[38;5;34m1\u001b[0m)           │               \u001b[38;5;34m0\u001b[0m │\n",
       "├──────────────────────────────────────┼─────────────────────────────┼─────────────────┤\n",
       "│ batch_normalization_1                │ (\u001b[38;5;45mNone\u001b[0m, \u001b[38;5;34m28\u001b[0m, \u001b[38;5;34m28\u001b[0m, \u001b[38;5;34m1\u001b[0m)           │               \u001b[38;5;34m4\u001b[0m │\n",
       "│ (\u001b[38;5;33mBatchNormalization\u001b[0m)                 │                             │                 │\n",
       "├──────────────────────────────────────┼─────────────────────────────┼─────────────────┤\n",
       "│ conv2d (\u001b[38;5;33mConv2D\u001b[0m)                      │ (\u001b[38;5;45mNone\u001b[0m, \u001b[38;5;34m28\u001b[0m, \u001b[38;5;34m28\u001b[0m, \u001b[38;5;34m128\u001b[0m)         │           \u001b[38;5;34m2,176\u001b[0m │\n",
       "├──────────────────────────────────────┼─────────────────────────────┼─────────────────┤\n",
       "│ leaky_re_lu_3 (\u001b[38;5;33mLeakyReLU\u001b[0m)            │ (\u001b[38;5;45mNone\u001b[0m, \u001b[38;5;34m28\u001b[0m, \u001b[38;5;34m28\u001b[0m, \u001b[38;5;34m128\u001b[0m)         │               \u001b[38;5;34m0\u001b[0m │\n",
       "├──────────────────────────────────────┼─────────────────────────────┼─────────────────┤\n",
       "│ conv2d_1 (\u001b[38;5;33mConv2D\u001b[0m)                    │ (\u001b[38;5;45mNone\u001b[0m, \u001b[38;5;34m28\u001b[0m, \u001b[38;5;34m28\u001b[0m, \u001b[38;5;34m128\u001b[0m)         │         \u001b[38;5;34m262,272\u001b[0m │\n",
       "├──────────────────────────────────────┼─────────────────────────────┼─────────────────┤\n",
       "│ leaky_re_lu_4 (\u001b[38;5;33mLeakyReLU\u001b[0m)            │ (\u001b[38;5;45mNone\u001b[0m, \u001b[38;5;34m28\u001b[0m, \u001b[38;5;34m28\u001b[0m, \u001b[38;5;34m128\u001b[0m)         │               \u001b[38;5;34m0\u001b[0m │\n",
       "├──────────────────────────────────────┼─────────────────────────────┼─────────────────┤\n",
       "│ conv2d_2 (\u001b[38;5;33mConv2D\u001b[0m)                    │ (\u001b[38;5;45mNone\u001b[0m, \u001b[38;5;34m28\u001b[0m, \u001b[38;5;34m28\u001b[0m, \u001b[38;5;34m128\u001b[0m)         │         \u001b[38;5;34m262,272\u001b[0m │\n",
       "├──────────────────────────────────────┼─────────────────────────────┼─────────────────┤\n",
       "│ leaky_re_lu_5 (\u001b[38;5;33mLeakyReLU\u001b[0m)            │ (\u001b[38;5;45mNone\u001b[0m, \u001b[38;5;34m28\u001b[0m, \u001b[38;5;34m28\u001b[0m, \u001b[38;5;34m128\u001b[0m)         │               \u001b[38;5;34m0\u001b[0m │\n",
       "├──────────────────────────────────────┼─────────────────────────────┼─────────────────┤\n",
       "│ conv2d_3 (\u001b[38;5;33mConv2D\u001b[0m)                    │ (\u001b[38;5;45mNone\u001b[0m, \u001b[38;5;34m28\u001b[0m, \u001b[38;5;34m28\u001b[0m, \u001b[38;5;34m1\u001b[0m)           │           \u001b[38;5;34m2,049\u001b[0m │\n",
       "└──────────────────────────────────────┴─────────────────────────────┴─────────────────┘\n"
      ]
     },
     "metadata": {},
     "output_type": "display_data"
    },
    {
     "data": {
      "text/html": [
       "<pre style=\"white-space:pre;overflow-x:auto;line-height:normal;font-family:Menlo,'DejaVu Sans Mono',consolas,'Courier New',monospace\"><span style=\"font-weight: bold\"> Total params: </span><span style=\"color: #00af00; text-decoration-color: #00af00\">1,602,694</span> (6.11 MB)\n",
       "</pre>\n"
      ],
      "text/plain": [
       "\u001b[1m Total params: \u001b[0m\u001b[38;5;34m1,602,694\u001b[0m (6.11 MB)\n"
      ]
     },
     "metadata": {},
     "output_type": "display_data"
    },
    {
     "data": {
      "text/html": [
       "<pre style=\"white-space:pre;overflow-x:auto;line-height:normal;font-family:Menlo,'DejaVu Sans Mono',consolas,'Courier New',monospace\"><span style=\"font-weight: bold\"> Trainable params: </span><span style=\"color: #00af00; text-decoration-color: #00af00\">1,602,436</span> (6.11 MB)\n",
       "</pre>\n"
      ],
      "text/plain": [
       "\u001b[1m Trainable params: \u001b[0m\u001b[38;5;34m1,602,436\u001b[0m (6.11 MB)\n"
      ]
     },
     "metadata": {},
     "output_type": "display_data"
    },
    {
     "data": {
      "text/html": [
       "<pre style=\"white-space:pre;overflow-x:auto;line-height:normal;font-family:Menlo,'DejaVu Sans Mono',consolas,'Courier New',monospace\"><span style=\"font-weight: bold\"> Non-trainable params: </span><span style=\"color: #00af00; text-decoration-color: #00af00\">258</span> (1.01 KB)\n",
       "</pre>\n"
      ],
      "text/plain": [
       "\u001b[1m Non-trainable params: \u001b[0m\u001b[38;5;34m258\u001b[0m (1.01 KB)\n"
      ]
     },
     "metadata": {},
     "output_type": "display_data"
    }
   ],
   "source": [
    "generator = build_generator()\n",
    "generator.summary()"
   ]
  },
  {
   "cell_type": "code",
   "execution_count": null,
   "metadata": {
    "execution": {
     "iopub.execute_input": "2025-05-03T10:04:58.125080Z",
     "iopub.status.busy": "2025-05-03T10:04:58.124785Z",
     "iopub.status.idle": "2025-05-03T10:04:58.129301Z",
     "shell.execute_reply": "2025-05-03T10:04:58.128603Z",
     "shell.execute_reply.started": "2025-05-03T10:04:58.125056Z"
    },
    "trusted": true
   },
   "outputs": [],
   "source": [
    "def display_images(generated_images):\n",
    "    plt.figure(figsize=(10, 10))\n",
    "    for i in range(generated_images.shape[0]):\n",
    "        plt.subplot(4, 4, i+1)\n",
    "        plt.imshow(generated_images[i, :, :, 0] * 127.5 + 127.5, cmap='gray')\n",
    "        plt.axis('off')\n",
    "    plt.show()"
   ]
  },
  {
   "cell_type": "code",
   "execution_count": 9,
   "metadata": {
    "execution": {
     "iopub.execute_input": "2025-05-03T10:04:58.169851Z",
     "iopub.status.busy": "2025-05-03T10:04:58.169596Z",
     "iopub.status.idle": "2025-05-03T10:04:58.182688Z",
     "shell.execute_reply": "2025-05-03T10:04:58.182102Z",
     "shell.execute_reply.started": "2025-05-03T10:04:58.169835Z"
    },
    "trusted": true
   },
   "outputs": [],
   "source": [
    "# Reduce el tamaño del crítico (demasiadas capas para Fashion-MNIST)\n",
    "def build_critic():\n",
    "    model = Sequential()\n",
    "    # Capa 1\n",
    "    model.add(Conv2D(64, (5,5), strides=(2,2), padding='same', input_shape=(28,28,1)))\n",
    "    model.add(LeakyReLU(0.2))\n",
    "    model.add(Dropout(0.3))\n",
    "    \n",
    "    # Capa 2\n",
    "    model.add(Conv2D(128, (5,5), strides=(2,2), padding='same'))\n",
    "    model.add(LeakyReLU(0.2))\n",
    "    model.add(Dropout(0.3))\n",
    "\n",
    "    # Capa 3\n",
    "    model.add(Conv2D(256,(5,5),padding='same'))\n",
    "    model.add(LeakyReLU(0.2))\n",
    "    model.add(Dropout(0.3))\n",
    "    \n",
    "    # Capa final\n",
    "    model.add(Flatten())\n",
    "    model.add(Dropout(0.3))\n",
    "    model.add(Dense(1))\n",
    "    return model"
   ]
  },
  {
   "cell_type": "code",
   "execution_count": 10,
   "metadata": {
    "colab": {
     "base_uri": "https://localhost:8080/",
     "height": 665
    },
    "execution": {
     "iopub.execute_input": "2025-05-03T10:04:58.183568Z",
     "iopub.status.busy": "2025-05-03T10:04:58.183342Z",
     "iopub.status.idle": "2025-05-03T10:04:58.285840Z",
     "shell.execute_reply": "2025-05-03T10:04:58.285316Z",
     "shell.execute_reply.started": "2025-05-03T10:04:58.183549Z"
    },
    "id": "nkE4gKgZbGV2",
    "outputId": "997d9813-9ca6-4a1c-c2a1-3ace25855887",
    "trusted": true
   },
   "outputs": [
    {
     "name": "stderr",
     "output_type": "stream",
     "text": [
      "/usr/local/lib/python3.11/dist-packages/keras/src/layers/convolutional/base_conv.py:107: UserWarning: Do not pass an `input_shape`/`input_dim` argument to a layer. When using Sequential models, prefer using an `Input(shape)` object as the first layer in the model instead.\n",
      "  super().__init__(activity_regularizer=activity_regularizer, **kwargs)\n"
     ]
    },
    {
     "data": {
      "text/html": [
       "<pre style=\"white-space:pre;overflow-x:auto;line-height:normal;font-family:Menlo,'DejaVu Sans Mono',consolas,'Courier New',monospace\"><span style=\"font-weight: bold\">Model: \"sequential_1\"</span>\n",
       "</pre>\n"
      ],
      "text/plain": [
       "\u001b[1mModel: \"sequential_1\"\u001b[0m\n"
      ]
     },
     "metadata": {},
     "output_type": "display_data"
    },
    {
     "data": {
      "text/html": [
       "<pre style=\"white-space:pre;overflow-x:auto;line-height:normal;font-family:Menlo,'DejaVu Sans Mono',consolas,'Courier New',monospace\">┏━━━━━━━━━━━━━━━━━━━━━━━━━━━━━━━━━━━━━━┳━━━━━━━━━━━━━━━━━━━━━━━━━━━━━┳━━━━━━━━━━━━━━━━━┓\n",
       "┃<span style=\"font-weight: bold\"> Layer (type)                         </span>┃<span style=\"font-weight: bold\"> Output Shape                </span>┃<span style=\"font-weight: bold\">         Param # </span>┃\n",
       "┡━━━━━━━━━━━━━━━━━━━━━━━━━━━━━━━━━━━━━━╇━━━━━━━━━━━━━━━━━━━━━━━━━━━━━╇━━━━━━━━━━━━━━━━━┩\n",
       "│ conv2d_4 (<span style=\"color: #0087ff; text-decoration-color: #0087ff\">Conv2D</span>)                    │ (<span style=\"color: #00d7ff; text-decoration-color: #00d7ff\">None</span>, <span style=\"color: #00af00; text-decoration-color: #00af00\">14</span>, <span style=\"color: #00af00; text-decoration-color: #00af00\">14</span>, <span style=\"color: #00af00; text-decoration-color: #00af00\">64</span>)          │           <span style=\"color: #00af00; text-decoration-color: #00af00\">1,664</span> │\n",
       "├──────────────────────────────────────┼─────────────────────────────┼─────────────────┤\n",
       "│ leaky_re_lu_6 (<span style=\"color: #0087ff; text-decoration-color: #0087ff\">LeakyReLU</span>)            │ (<span style=\"color: #00d7ff; text-decoration-color: #00d7ff\">None</span>, <span style=\"color: #00af00; text-decoration-color: #00af00\">14</span>, <span style=\"color: #00af00; text-decoration-color: #00af00\">14</span>, <span style=\"color: #00af00; text-decoration-color: #00af00\">64</span>)          │               <span style=\"color: #00af00; text-decoration-color: #00af00\">0</span> │\n",
       "├──────────────────────────────────────┼─────────────────────────────┼─────────────────┤\n",
       "│ dropout (<span style=\"color: #0087ff; text-decoration-color: #0087ff\">Dropout</span>)                    │ (<span style=\"color: #00d7ff; text-decoration-color: #00d7ff\">None</span>, <span style=\"color: #00af00; text-decoration-color: #00af00\">14</span>, <span style=\"color: #00af00; text-decoration-color: #00af00\">14</span>, <span style=\"color: #00af00; text-decoration-color: #00af00\">64</span>)          │               <span style=\"color: #00af00; text-decoration-color: #00af00\">0</span> │\n",
       "├──────────────────────────────────────┼─────────────────────────────┼─────────────────┤\n",
       "│ conv2d_5 (<span style=\"color: #0087ff; text-decoration-color: #0087ff\">Conv2D</span>)                    │ (<span style=\"color: #00d7ff; text-decoration-color: #00d7ff\">None</span>, <span style=\"color: #00af00; text-decoration-color: #00af00\">7</span>, <span style=\"color: #00af00; text-decoration-color: #00af00\">7</span>, <span style=\"color: #00af00; text-decoration-color: #00af00\">128</span>)           │         <span style=\"color: #00af00; text-decoration-color: #00af00\">204,928</span> │\n",
       "├──────────────────────────────────────┼─────────────────────────────┼─────────────────┤\n",
       "│ leaky_re_lu_7 (<span style=\"color: #0087ff; text-decoration-color: #0087ff\">LeakyReLU</span>)            │ (<span style=\"color: #00d7ff; text-decoration-color: #00d7ff\">None</span>, <span style=\"color: #00af00; text-decoration-color: #00af00\">7</span>, <span style=\"color: #00af00; text-decoration-color: #00af00\">7</span>, <span style=\"color: #00af00; text-decoration-color: #00af00\">128</span>)           │               <span style=\"color: #00af00; text-decoration-color: #00af00\">0</span> │\n",
       "├──────────────────────────────────────┼─────────────────────────────┼─────────────────┤\n",
       "│ dropout_1 (<span style=\"color: #0087ff; text-decoration-color: #0087ff\">Dropout</span>)                  │ (<span style=\"color: #00d7ff; text-decoration-color: #00d7ff\">None</span>, <span style=\"color: #00af00; text-decoration-color: #00af00\">7</span>, <span style=\"color: #00af00; text-decoration-color: #00af00\">7</span>, <span style=\"color: #00af00; text-decoration-color: #00af00\">128</span>)           │               <span style=\"color: #00af00; text-decoration-color: #00af00\">0</span> │\n",
       "├──────────────────────────────────────┼─────────────────────────────┼─────────────────┤\n",
       "│ conv2d_6 (<span style=\"color: #0087ff; text-decoration-color: #0087ff\">Conv2D</span>)                    │ (<span style=\"color: #00d7ff; text-decoration-color: #00d7ff\">None</span>, <span style=\"color: #00af00; text-decoration-color: #00af00\">7</span>, <span style=\"color: #00af00; text-decoration-color: #00af00\">7</span>, <span style=\"color: #00af00; text-decoration-color: #00af00\">256</span>)           │         <span style=\"color: #00af00; text-decoration-color: #00af00\">819,456</span> │\n",
       "├──────────────────────────────────────┼─────────────────────────────┼─────────────────┤\n",
       "│ leaky_re_lu_8 (<span style=\"color: #0087ff; text-decoration-color: #0087ff\">LeakyReLU</span>)            │ (<span style=\"color: #00d7ff; text-decoration-color: #00d7ff\">None</span>, <span style=\"color: #00af00; text-decoration-color: #00af00\">7</span>, <span style=\"color: #00af00; text-decoration-color: #00af00\">7</span>, <span style=\"color: #00af00; text-decoration-color: #00af00\">256</span>)           │               <span style=\"color: #00af00; text-decoration-color: #00af00\">0</span> │\n",
       "├──────────────────────────────────────┼─────────────────────────────┼─────────────────┤\n",
       "│ dropout_2 (<span style=\"color: #0087ff; text-decoration-color: #0087ff\">Dropout</span>)                  │ (<span style=\"color: #00d7ff; text-decoration-color: #00d7ff\">None</span>, <span style=\"color: #00af00; text-decoration-color: #00af00\">7</span>, <span style=\"color: #00af00; text-decoration-color: #00af00\">7</span>, <span style=\"color: #00af00; text-decoration-color: #00af00\">256</span>)           │               <span style=\"color: #00af00; text-decoration-color: #00af00\">0</span> │\n",
       "├──────────────────────────────────────┼─────────────────────────────┼─────────────────┤\n",
       "│ flatten (<span style=\"color: #0087ff; text-decoration-color: #0087ff\">Flatten</span>)                    │ (<span style=\"color: #00d7ff; text-decoration-color: #00d7ff\">None</span>, <span style=\"color: #00af00; text-decoration-color: #00af00\">12544</span>)               │               <span style=\"color: #00af00; text-decoration-color: #00af00\">0</span> │\n",
       "├──────────────────────────────────────┼─────────────────────────────┼─────────────────┤\n",
       "│ dropout_3 (<span style=\"color: #0087ff; text-decoration-color: #0087ff\">Dropout</span>)                  │ (<span style=\"color: #00d7ff; text-decoration-color: #00d7ff\">None</span>, <span style=\"color: #00af00; text-decoration-color: #00af00\">12544</span>)               │               <span style=\"color: #00af00; text-decoration-color: #00af00\">0</span> │\n",
       "├──────────────────────────────────────┼─────────────────────────────┼─────────────────┤\n",
       "│ dense_1 (<span style=\"color: #0087ff; text-decoration-color: #0087ff\">Dense</span>)                      │ (<span style=\"color: #00d7ff; text-decoration-color: #00d7ff\">None</span>, <span style=\"color: #00af00; text-decoration-color: #00af00\">1</span>)                   │          <span style=\"color: #00af00; text-decoration-color: #00af00\">12,545</span> │\n",
       "└──────────────────────────────────────┴─────────────────────────────┴─────────────────┘\n",
       "</pre>\n"
      ],
      "text/plain": [
       "┏━━━━━━━━━━━━━━━━━━━━━━━━━━━━━━━━━━━━━━┳━━━━━━━━━━━━━━━━━━━━━━━━━━━━━┳━━━━━━━━━━━━━━━━━┓\n",
       "┃\u001b[1m \u001b[0m\u001b[1mLayer (type)                        \u001b[0m\u001b[1m \u001b[0m┃\u001b[1m \u001b[0m\u001b[1mOutput Shape               \u001b[0m\u001b[1m \u001b[0m┃\u001b[1m \u001b[0m\u001b[1m        Param #\u001b[0m\u001b[1m \u001b[0m┃\n",
       "┡━━━━━━━━━━━━━━━━━━━━━━━━━━━━━━━━━━━━━━╇━━━━━━━━━━━━━━━━━━━━━━━━━━━━━╇━━━━━━━━━━━━━━━━━┩\n",
       "│ conv2d_4 (\u001b[38;5;33mConv2D\u001b[0m)                    │ (\u001b[38;5;45mNone\u001b[0m, \u001b[38;5;34m14\u001b[0m, \u001b[38;5;34m14\u001b[0m, \u001b[38;5;34m64\u001b[0m)          │           \u001b[38;5;34m1,664\u001b[0m │\n",
       "├──────────────────────────────────────┼─────────────────────────────┼─────────────────┤\n",
       "│ leaky_re_lu_6 (\u001b[38;5;33mLeakyReLU\u001b[0m)            │ (\u001b[38;5;45mNone\u001b[0m, \u001b[38;5;34m14\u001b[0m, \u001b[38;5;34m14\u001b[0m, \u001b[38;5;34m64\u001b[0m)          │               \u001b[38;5;34m0\u001b[0m │\n",
       "├──────────────────────────────────────┼─────────────────────────────┼─────────────────┤\n",
       "│ dropout (\u001b[38;5;33mDropout\u001b[0m)                    │ (\u001b[38;5;45mNone\u001b[0m, \u001b[38;5;34m14\u001b[0m, \u001b[38;5;34m14\u001b[0m, \u001b[38;5;34m64\u001b[0m)          │               \u001b[38;5;34m0\u001b[0m │\n",
       "├──────────────────────────────────────┼─────────────────────────────┼─────────────────┤\n",
       "│ conv2d_5 (\u001b[38;5;33mConv2D\u001b[0m)                    │ (\u001b[38;5;45mNone\u001b[0m, \u001b[38;5;34m7\u001b[0m, \u001b[38;5;34m7\u001b[0m, \u001b[38;5;34m128\u001b[0m)           │         \u001b[38;5;34m204,928\u001b[0m │\n",
       "├──────────────────────────────────────┼─────────────────────────────┼─────────────────┤\n",
       "│ leaky_re_lu_7 (\u001b[38;5;33mLeakyReLU\u001b[0m)            │ (\u001b[38;5;45mNone\u001b[0m, \u001b[38;5;34m7\u001b[0m, \u001b[38;5;34m7\u001b[0m, \u001b[38;5;34m128\u001b[0m)           │               \u001b[38;5;34m0\u001b[0m │\n",
       "├──────────────────────────────────────┼─────────────────────────────┼─────────────────┤\n",
       "│ dropout_1 (\u001b[38;5;33mDropout\u001b[0m)                  │ (\u001b[38;5;45mNone\u001b[0m, \u001b[38;5;34m7\u001b[0m, \u001b[38;5;34m7\u001b[0m, \u001b[38;5;34m128\u001b[0m)           │               \u001b[38;5;34m0\u001b[0m │\n",
       "├──────────────────────────────────────┼─────────────────────────────┼─────────────────┤\n",
       "│ conv2d_6 (\u001b[38;5;33mConv2D\u001b[0m)                    │ (\u001b[38;5;45mNone\u001b[0m, \u001b[38;5;34m7\u001b[0m, \u001b[38;5;34m7\u001b[0m, \u001b[38;5;34m256\u001b[0m)           │         \u001b[38;5;34m819,456\u001b[0m │\n",
       "├──────────────────────────────────────┼─────────────────────────────┼─────────────────┤\n",
       "│ leaky_re_lu_8 (\u001b[38;5;33mLeakyReLU\u001b[0m)            │ (\u001b[38;5;45mNone\u001b[0m, \u001b[38;5;34m7\u001b[0m, \u001b[38;5;34m7\u001b[0m, \u001b[38;5;34m256\u001b[0m)           │               \u001b[38;5;34m0\u001b[0m │\n",
       "├──────────────────────────────────────┼─────────────────────────────┼─────────────────┤\n",
       "│ dropout_2 (\u001b[38;5;33mDropout\u001b[0m)                  │ (\u001b[38;5;45mNone\u001b[0m, \u001b[38;5;34m7\u001b[0m, \u001b[38;5;34m7\u001b[0m, \u001b[38;5;34m256\u001b[0m)           │               \u001b[38;5;34m0\u001b[0m │\n",
       "├──────────────────────────────────────┼─────────────────────────────┼─────────────────┤\n",
       "│ flatten (\u001b[38;5;33mFlatten\u001b[0m)                    │ (\u001b[38;5;45mNone\u001b[0m, \u001b[38;5;34m12544\u001b[0m)               │               \u001b[38;5;34m0\u001b[0m │\n",
       "├──────────────────────────────────────┼─────────────────────────────┼─────────────────┤\n",
       "│ dropout_3 (\u001b[38;5;33mDropout\u001b[0m)                  │ (\u001b[38;5;45mNone\u001b[0m, \u001b[38;5;34m12544\u001b[0m)               │               \u001b[38;5;34m0\u001b[0m │\n",
       "├──────────────────────────────────────┼─────────────────────────────┼─────────────────┤\n",
       "│ dense_1 (\u001b[38;5;33mDense\u001b[0m)                      │ (\u001b[38;5;45mNone\u001b[0m, \u001b[38;5;34m1\u001b[0m)                   │          \u001b[38;5;34m12,545\u001b[0m │\n",
       "└──────────────────────────────────────┴─────────────────────────────┴─────────────────┘\n"
      ]
     },
     "metadata": {},
     "output_type": "display_data"
    },
    {
     "data": {
      "text/html": [
       "<pre style=\"white-space:pre;overflow-x:auto;line-height:normal;font-family:Menlo,'DejaVu Sans Mono',consolas,'Courier New',monospace\"><span style=\"font-weight: bold\"> Total params: </span><span style=\"color: #00af00; text-decoration-color: #00af00\">1,038,593</span> (3.96 MB)\n",
       "</pre>\n"
      ],
      "text/plain": [
       "\u001b[1m Total params: \u001b[0m\u001b[38;5;34m1,038,593\u001b[0m (3.96 MB)\n"
      ]
     },
     "metadata": {},
     "output_type": "display_data"
    },
    {
     "data": {
      "text/html": [
       "<pre style=\"white-space:pre;overflow-x:auto;line-height:normal;font-family:Menlo,'DejaVu Sans Mono',consolas,'Courier New',monospace\"><span style=\"font-weight: bold\"> Trainable params: </span><span style=\"color: #00af00; text-decoration-color: #00af00\">1,038,593</span> (3.96 MB)\n",
       "</pre>\n"
      ],
      "text/plain": [
       "\u001b[1m Trainable params: \u001b[0m\u001b[38;5;34m1,038,593\u001b[0m (3.96 MB)\n"
      ]
     },
     "metadata": {},
     "output_type": "display_data"
    },
    {
     "data": {
      "text/html": [
       "<pre style=\"white-space:pre;overflow-x:auto;line-height:normal;font-family:Menlo,'DejaVu Sans Mono',consolas,'Courier New',monospace\"><span style=\"font-weight: bold\"> Non-trainable params: </span><span style=\"color: #00af00; text-decoration-color: #00af00\">0</span> (0.00 B)\n",
       "</pre>\n"
      ],
      "text/plain": [
       "\u001b[1m Non-trainable params: \u001b[0m\u001b[38;5;34m0\u001b[0m (0.00 B)\n"
      ]
     },
     "metadata": {},
     "output_type": "display_data"
    }
   ],
   "source": [
    "critic = build_critic()\n",
    "critic.summary()"
   ]
  },
  {
   "cell_type": "code",
   "execution_count": 11,
   "metadata": {
    "execution": {
     "iopub.execute_input": "2025-05-03T10:04:58.286676Z",
     "iopub.status.busy": "2025-05-03T10:04:58.286471Z",
     "iopub.status.idle": "2025-05-03T10:04:58.291528Z",
     "shell.execute_reply": "2025-05-03T10:04:58.290931Z",
     "shell.execute_reply.started": "2025-05-03T10:04:58.286661Z"
    },
    "id": "g-UB-4WXbGV2",
    "trusted": true
   },
   "outputs": [],
   "source": [
    "def gradient_penalty(self, batch_size, real_images, fake_images):\n",
    "    alpha = tf.random.normal([batch_size, 1, 1, 1], 0.0, 1.0)  #genera un tensor de nºs aleatorios de tamaño (batch_sz,1,1,1) llamado alpha, a partir de una normal(0,1)\n",
    "    diff = fake_images - real_images\n",
    "    interpolated = real_images + alpha * diff  #creamos imágenes ficticias entre las reales y falsas, controlándo cuánta mezcla hay en cada interpolación con alpha\n",
    "\n",
    "    with tf.GradientTape() as gp_tape:  #cálculo del gradiente\n",
    "        gp_tape.watch(interpolated)\n",
    "        pred = self.critic(interpolated, training=True) #obtiene la predicción del crítico\n",
    "\n",
    "    grads = gp_tape.gradient(pred, [interpolated])[0]  #cálculo del gradiente de la prediccion vs interpolacion\n",
    "    norm = tf.sqrt(tf.reduce_sum(tf.square(grads), axis=[1, 2, 3]))  #norma L2 de los gradientes\n",
    "    gp = tf.reduce_mean((norm - 1.0) ** 2)\n",
    "    return gp  #la función devuelve la distancia entre la norma L2 Y 1 media al cuadrado"
   ]
  },
  {
   "cell_type": "code",
   "execution_count": 12,
   "metadata": {
    "execution": {
     "iopub.execute_input": "2025-05-03T10:04:58.292409Z",
     "iopub.status.busy": "2025-05-03T10:04:58.292167Z",
     "iopub.status.idle": "2025-05-03T10:04:58.313235Z",
     "shell.execute_reply": "2025-05-03T10:04:58.312710Z",
     "shell.execute_reply.started": "2025-05-03T10:04:58.292387Z"
    },
    "id": "jRNYfZL4bGV2",
    "trusted": true
   },
   "outputs": [],
   "source": [
    "g_opt = Adam(0.00001, beta_1=0.0, beta_2=0.9)\n",
    "c_opt = Adam(0.0001, beta_1=0.0, beta_2=0.9)\n"
   ]
  },
  {
   "cell_type": "code",
   "execution_count": 13,
   "metadata": {
    "colab": {
     "base_uri": "https://localhost:8080/"
    },
    "execution": {
     "iopub.execute_input": "2025-05-03T10:04:58.314104Z",
     "iopub.status.busy": "2025-05-03T10:04:58.313896Z",
     "iopub.status.idle": "2025-05-03T10:05:00.632964Z",
     "shell.execute_reply": "2025-05-03T10:05:00.632371Z",
     "shell.execute_reply.started": "2025-05-03T10:04:58.314089Z"
    },
    "id": "tzq8TyBWv5lG",
    "outputId": "258242e3-dd68-4b8e-8f2d-a48b7e1b4714",
    "trusted": true
   },
   "outputs": [
    {
     "name": "stderr",
     "output_type": "stream",
     "text": [
      "I0000 00:00:1746266698.412437      31 cuda_dnn.cc:529] Loaded cuDNN version 90300\n"
     ]
    },
    {
     "data": {
      "text/plain": [
       "((60000, 28, 28, 1),\n",
       " TensorShape([128, 28, 28, 1]),\n",
       " TensorShape([128, 1]),\n",
       " (128, 28, 28),\n",
       " TensorShape([128, 1]),\n",
       " 60000)"
      ]
     },
     "execution_count": 13,
     "metadata": {},
     "output_type": "execute_result"
    }
   ],
   "source": [
    "random_latent_vectors = tf.random.normal(shape=(batch_size, latent_dim))\n",
    "fake_images = generator(random_latent_vectors, training = True)\n",
    "fake_predictions = critic(fake_images, training = True)\n",
    "real_images = x_train[:batch_size]\n",
    "real_predictions = critic(real_images, training = True)\n",
    "x_train = x_train.reshape(x_train.shape[0], 28, 28, 1)\n",
    "x_train.shape,fake_images.shape, fake_predictions.shape, real_images.shape, real_predictions.shape, x_train.shape[0]"
   ]
  },
  {
   "cell_type": "code",
   "execution_count": 14,
   "metadata": {
    "execution": {
     "iopub.execute_input": "2025-05-03T10:05:00.633888Z",
     "iopub.status.busy": "2025-05-03T10:05:00.633655Z",
     "iopub.status.idle": "2025-05-03T10:05:00.638327Z",
     "shell.execute_reply": "2025-05-03T10:05:00.637648Z",
     "shell.execute_reply.started": "2025-05-03T10:05:00.633862Z"
    },
    "id": "Vv9cNym8HRjW",
    "trusted": true
   },
   "outputs": [],
   "source": [
    "alpha = tf.random.normal([batch_size, 1, 1, 1], 0.0, 1.0)"
   ]
  },
  {
   "cell_type": "code",
   "execution_count": null,
   "metadata": {
    "execution": {
     "iopub.execute_input": "2025-05-03T10:05:00.639142Z",
     "iopub.status.busy": "2025-05-03T10:05:00.638927Z",
     "iopub.status.idle": "2025-05-03T10:05:00.654798Z",
     "shell.execute_reply": "2025-05-03T10:05:00.654165Z",
     "shell.execute_reply.started": "2025-05-03T10:05:00.639127Z"
    },
    "trusted": true
   },
   "outputs": [],
   "source": [
    "class FashionWGAN(Model):\n",
    "    def __init__(self, generator, critic, latent_dim=128, batch_size=128, gp_weight=10, *args, **kwargs):\n",
    "        super().__init__(*args, **kwargs)\n",
    "        self.generator = generator\n",
    "        self.critic = critic\n",
    "        self.latent_dim = latent_dim\n",
    "        self.batch_size = batch_size\n",
    "        self.gp_weight = gp_weight\n",
    "\n",
    "        self.c_loss_tracker = tf.keras.metrics.Mean(name=\"c_loss\")\n",
    "        self.c_wass_tracker = tf.keras.metrics.Mean(name=\"c_wass\")\n",
    "        self.c_gp_tracker = tf.keras.metrics.Mean(name=\"c_gp\")\n",
    "        self.g_loss_tracker = tf.keras.metrics.Mean(name=\"g_loss\")\n",
    "\n",
    "    @property\n",
    "    def metrics(self):\n",
    "        return [\n",
    "            self.c_loss_tracker,\n",
    "            self.c_wass_tracker,\n",
    "            self.c_gp_tracker,\n",
    "            self.g_loss_tracker\n",
    "        ]\n",
    "\n",
    "    def gradient_penalty(self, batch_size, real_images, fake_images):\n",
    "        \"\"\"Calcula la penalización del gradiente para WGAN-GP\"\"\"\n",
    "        alpha = tf.random.normal([batch_size, 1, 1, 1], 0.0, 1.0)\n",
    "        interpolated = real_images + alpha * (fake_images - real_images)\n",
    "\n",
    "        \n",
    "        with tf.GradientTape() as gp_tape:\n",
    "            gp_tape.watch(interpolated)\n",
    "            pred = self.critic(interpolated, training=True)\n",
    "        \n",
    "        grads = gp_tape.gradient(pred, [interpolated])[0]\n",
    "        norm = tf.sqrt(tf.reduce_sum(tf.square(grads), axis=[1, 2, 3]))\n",
    "        \n",
    "        gp = tf.reduce_mean((norm - 1.0)**2)\n",
    "        return gp\n",
    "\n",
    "    def compile(self, g_opt, c_opt, *args, **kwargs):\n",
    "        super().compile(*args, **kwargs)\n",
    "        self.g_opt = g_opt\n",
    "        self.c_opt = c_opt\n",
    "\n",
    "    def train_step(self, real_images):\n",
    "        if isinstance(real_images, tuple):\n",
    "            real_images = real_images[0]\n",
    "        \n",
    "        batch_size = tf.shape(real_images)[0]\n",
    "        real_images = tf.cast(real_images, tf.float32)\n",
    "\n",
    "        for _ in range(2):\n",
    "            random_latent_vectors = tf.random.normal(shape=(batch_size, self.latent_dim))\n",
    "            with tf.GradientTape() as tape:\n",
    "                fake_images = self.generator(random_latent_vectors, training=True)\n",
    "                fake_predictions = self.critic(fake_images, training=True)\n",
    "                real_predictions = self.critic(real_images, training=True)\n",
    "\n",
    "                c_wass_loss = tf.reduce_mean(fake_predictions) - tf.reduce_mean(real_predictions)\n",
    "                c_gp = self.gradient_penalty(batch_size, real_images, fake_images)\n",
    "                c_loss = c_wass_loss + c_gp * self.gp_weight\n",
    "\n",
    "            c_grad = tape.gradient(c_loss, self.critic.trainable_variables)\n",
    "            self.c_opt.apply_gradients(zip(c_grad, self.critic.trainable_variables))\n",
    "\n",
    "        for _ in range(1):\n",
    "           random_latent_vectors = tf.random.normal(shape=(batch_size, self.latent_dim))\n",
    "           with tf.GradientTape() as tape:\n",
    "              fake_images = self.generator(random_latent_vectors, training=True)\n",
    "              fake_predictions = self.critic(fake_images, training=True)\n",
    "              g_loss = -tf.reduce_mean(fake_predictions)\n",
    "\n",
    "           g_grad = tape.gradient(g_loss, self.generator.trainable_variables)\n",
    "           self.g_opt.apply_gradients(zip(g_grad, self.generator.trainable_variables))\n",
    "\n",
    "        self.c_loss_tracker.update_state(c_loss)\n",
    "        self.c_wass_tracker.update_state(c_wass_loss)\n",
    "        self.c_gp_tracker.update_state(c_gp)\n",
    "        self.g_loss_tracker.update_state(g_loss)\n",
    "\n",
    "        return {m.name: m.result() for m in self.metrics}"
   ]
  },
  {
   "cell_type": "code",
   "execution_count": 16,
   "metadata": {
    "execution": {
     "iopub.execute_input": "2025-05-03T10:05:00.655795Z",
     "iopub.status.busy": "2025-05-03T10:05:00.655547Z",
     "iopub.status.idle": "2025-05-03T10:05:00.682165Z",
     "shell.execute_reply": "2025-05-03T10:05:00.681501Z",
     "shell.execute_reply.started": "2025-05-03T10:05:00.655773Z"
    },
    "id": "mb0z5e_FbGV2",
    "trusted": true
   },
   "outputs": [],
   "source": [
    "redFASHIONWGAN = FashionWGAN(generator, critic)"
   ]
  },
  {
   "cell_type": "code",
   "execution_count": null,
   "metadata": {
    "execution": {
     "iopub.execute_input": "2025-05-03T10:05:00.683630Z",
     "iopub.status.busy": "2025-05-03T10:05:00.682891Z",
     "iopub.status.idle": "2025-05-03T10:05:00.799247Z",
     "shell.execute_reply": "2025-05-03T10:05:00.798579Z",
     "shell.execute_reply.started": "2025-05-03T10:05:00.683613Z"
    },
    "id": "cfF8YOZLPDLo",
    "trusted": true
   },
   "outputs": [],
   "source": [
    "dummy_input = tf.random.normal([1, 128]) \n",
    "dummy_image = tf.random.normal([1, 28, 28, 1])  \n",
    "\n",
    "_ = generator(dummy_input)\n",
    "_ = critic(dummy_image)\n"
   ]
  },
  {
   "cell_type": "code",
   "execution_count": 18,
   "metadata": {
    "execution": {
     "iopub.execute_input": "2025-05-03T10:05:00.800162Z",
     "iopub.status.busy": "2025-05-03T10:05:00.799911Z",
     "iopub.status.idle": "2025-05-03T10:05:00.809288Z",
     "shell.execute_reply": "2025-05-03T10:05:00.808786Z",
     "shell.execute_reply.started": "2025-05-03T10:05:00.800147Z"
    },
    "id": "I_vkXaVSbGV2",
    "trusted": true
   },
   "outputs": [],
   "source": [
    "redFASHIONWGAN.compile(g_opt,c_opt)"
   ]
  },
  {
   "cell_type": "code",
   "execution_count": null,
   "metadata": {
    "colab": {
     "base_uri": "https://localhost:8080/"
    },
    "execution": {
     "iopub.execute_input": "2025-05-03T10:05:00.810153Z",
     "iopub.status.busy": "2025-05-03T10:05:00.809965Z",
     "iopub.status.idle": "2025-05-03T10:05:00.819514Z",
     "shell.execute_reply": "2025-05-03T10:05:00.819019Z",
     "shell.execute_reply.started": "2025-05-03T10:05:00.810138Z"
    },
    "id": "kd4DneilbGV2",
    "outputId": "fa55d498-9028-476f-e029-1a1be500db4c",
    "trusted": true
   },
   "outputs": [
    {
     "name": "stdout",
     "output_type": "stream",
     "text": [
      "Carpeta 'resultados' creada o ya existente.\n"
     ]
    }
   ],
   "source": [
    "import os\n",
    "from tensorflow.keras.preprocessing.image import array_to_img\n",
    "from tensorflow.keras.callbacks import Callback\n",
    "\n",
    "carpeta = \"resultados\"\n",
    "\n",
    "if not os.path.exists(carpeta):\n",
    "    os.makedirs(carpeta)\n",
    "\n",
    "print(f\"Carpeta '{carpeta}' creada o ya existente.\")\n"
   ]
  },
  {
   "cell_type": "code",
   "execution_count": null,
   "metadata": {
    "execution": {
     "iopub.execute_input": "2025-05-03T10:05:00.820385Z",
     "iopub.status.busy": "2025-05-03T10:05:00.820120Z",
     "iopub.status.idle": "2025-05-03T10:05:00.836570Z",
     "shell.execute_reply": "2025-05-03T10:05:00.836020Z",
     "shell.execute_reply.started": "2025-05-03T10:05:00.820370Z"
    },
    "id": "ju-EnCzLbGV2",
    "trusted": true
   },
   "outputs": [],
   "source": [
    "class ModelMonitor(Callback):                             #genera y guarda 3 imágenes tras cada época\n",
    "  def __init__(self,num_img=4, latent_dim=128, save_interval=10,output_dir='/kaggle/working/resultados'):\n",
    "    self.num_img = num_img\n",
    "    self.latent_dim = latent_dim\n",
    "    self.save_interval = save_interval\n",
    "    self.output_dir='/kaggle/working/resultados'\n",
    "\n",
    "  def on_epoch_end(self, epoch, logs=None):\n",
    "   if (epoch + 1) % self.save_interval == 0:\n",
    "    random_latent_vectors = tf.random.normal(shape=(self.num_img, self.latent_dim,1)) #genera 3 imágenes, cuyo espacio latente tenga dim=128 valores aleatorios\n",
    "    generated_images = self.model.generator(random_latent_vectors) #pasa los valores de antes al generador\n",
    "    generated_images *=255 #invertir el escalado\n",
    "    generated_images.numpy() #convertimos el vector de imágenes en un vector numpy (formato típico de imágenes)\n",
    "    for i in range(self.num_img):\n",
    "      img = array_to_img(generated_images[i])\n",
    "      img.save(os.path.join('resultados', f'generated_img_{epoch}_{i}.png'))"
   ]
  },
  {
   "cell_type": "markdown",
   "metadata": {
    "id": "Ca3-9kXTc47_"
   },
   "source": [
    "cambiar gq_weight inicial de 10 a 1\n",
    "meter betas en learning rate (alpha del c pasa de 0.00001 a 0.0001)\n",
    "cambio el scale_image para solucionar el NaN\n",
    "quito la activación tanh de generador y critico\n",
    "le quito los bloques 1 y 4 al critico\n",
    "Obtenia g_loss alrededor de 7 y c_loss alrededor de -0.1 (no generaba buenas imágenes)-->meto alpha de 0.00001 al critico y lo itero por 3 veces en vez de 5.\n",
    "23/04 aumento la complejidad del generador y itero el critico solo 1 vez para ver si obtengo menos perdida en generador.\n",
    "Ahora itero el generador 3 vecces en lugar del critico----> parece algo bueno pero tarda un poco.\n",
    "Voy a aumentar la complejidad del generador--->no vale\n",
    "Vuelvo a 2 o 3 training steps para el critic y 1 solo para el generador--->el generador sigue aprendiendo demasiado rápido (modo collapso)\n",
    "Disminuyo la learning rate del  generador + dropout de critico de 0.4 a 0.3 + random noise en generador + capa convolucional en critico\n",
    "Con 100 epocas tenemos un resultado que PARECE COMENZAR A ESTABILIZARSE según el gráfico de c_loss y g_loss. Las imágenes generadas no son las mejores pero vamos a meter 50 epocas más para comparar con el fashionMNIST y WGAN\n",
    "\n",
    "\n",
    "Vamos a meter 150 epocas en vez de 100, a ver como varia el grafico y las imágenes"
   ]
  },
  {
   "cell_type": "code",
   "execution_count": null,
   "metadata": {
    "colab": {
     "base_uri": "https://localhost:8080/"
    },
    "execution": {
     "iopub.execute_input": "2025-05-03T10:05:00.837460Z",
     "iopub.status.busy": "2025-05-03T10:05:00.837224Z"
    },
    "id": "scVOavs7bGV2",
    "outputId": "f67bfd2d-5f33-4ccc-b5ca-e2988fc2e053",
    "trusted": true
   },
   "outputs": [
    {
     "name": "stdout",
     "output_type": "stream",
     "text": [
      "Epoch 1/200\n"
     ]
    },
    {
     "name": "stderr",
     "output_type": "stream",
     "text": [
      "WARNING: All log messages before absl::InitializeLog() is called are written to STDERR\n",
      "I0000 00:00:1746266712.942134      92 service.cc:148] XLA service 0x7cafd401e740 initialized for platform CUDA (this does not guarantee that XLA will be used). Devices:\n",
      "I0000 00:00:1746266712.942655      92 service.cc:156]   StreamExecutor device (0): Tesla P100-PCIE-16GB, Compute Capability 6.0\n"
     ]
    },
    {
     "name": "stdout",
     "output_type": "stream",
     "text": [
      "\u001b[1m  2/469\u001b[0m \u001b[37m━━━━━━━━━━━━━━━━━━━━\u001b[0m \u001b[1m39s\u001b[0m 85ms/step - c_gp: 0.8093 - c_loss: 7.8853 - c_wass: -0.2081 - g_loss: -0.0136   "
     ]
    },
    {
     "name": "stderr",
     "output_type": "stream",
     "text": [
      "I0000 00:00:1746266734.203951      92 device_compiler.h:188] Compiled cluster using XLA!  This line is logged at most once for the lifetime of the process.\n"
     ]
    },
    {
     "name": "stdout",
     "output_type": "stream",
     "text": [
      "\u001b[1m469/469\u001b[0m \u001b[32m━━━━━━━━━━━━━━━━━━━━\u001b[0m\u001b[37m\u001b[0m \u001b[1m94s\u001b[0m 130ms/step - c_gp: 0.5009 - c_loss: -16.8430 - c_wass: -21.8520 - g_loss: -5.3029\n",
      "Epoch 2/200\n",
      "\u001b[1m469/469\u001b[0m \u001b[32m━━━━━━━━━━━━━━━━━━━━\u001b[0m\u001b[37m\u001b[0m \u001b[1m38s\u001b[0m 81ms/step - c_gp: 0.0471 - c_loss: -4.5270 - c_wass: -4.9985 - g_loss: -9.4412\n",
      "Epoch 3/200\n",
      "\u001b[1m469/469\u001b[0m \u001b[32m━━━━━━━━━━━━━━━━━━━━\u001b[0m\u001b[37m\u001b[0m \u001b[1m38s\u001b[0m 81ms/step - c_gp: 0.0519 - c_loss: -4.3981 - c_wass: -4.9169 - g_loss: -19.3568\n",
      "Epoch 4/200\n",
      "\u001b[1m469/469\u001b[0m \u001b[32m━━━━━━━━━━━━━━━━━━━━\u001b[0m\u001b[37m\u001b[0m \u001b[1m38s\u001b[0m 81ms/step - c_gp: 0.0551 - c_loss: -4.4102 - c_wass: -4.9616 - g_loss: -15.3305\n",
      "Epoch 5/200\n",
      "\u001b[1m469/469\u001b[0m \u001b[32m━━━━━━━━━━━━━━━━━━━━\u001b[0m\u001b[37m\u001b[0m \u001b[1m38s\u001b[0m 81ms/step - c_gp: 0.0567 - c_loss: -4.3506 - c_wass: -4.9173 - g_loss: -9.5752\n",
      "Epoch 6/200\n",
      "\u001b[1m469/469\u001b[0m \u001b[32m━━━━━━━━━━━━━━━━━━━━\u001b[0m\u001b[37m\u001b[0m \u001b[1m38s\u001b[0m 81ms/step - c_gp: 0.0603 - c_loss: -4.3851 - c_wass: -4.9881 - g_loss: -3.6137\n",
      "Epoch 7/200\n",
      "\u001b[1m469/469\u001b[0m \u001b[32m━━━━━━━━━━━━━━━━━━━━\u001b[0m\u001b[37m\u001b[0m \u001b[1m38s\u001b[0m 81ms/step - c_gp: 0.0646 - c_loss: -4.4677 - c_wass: -5.1133 - g_loss: 1.1362\n",
      "Epoch 8/200\n",
      "\u001b[1m469/469\u001b[0m \u001b[32m━━━━━━━━━━━━━━━━━━━━\u001b[0m\u001b[37m\u001b[0m \u001b[1m38s\u001b[0m 81ms/step - c_gp: 0.0669 - c_loss: -4.5366 - c_wass: -5.2056 - g_loss: 3.9834\n",
      "Epoch 9/200\n",
      "\u001b[1m469/469\u001b[0m \u001b[32m━━━━━━━━━━━━━━━━━━━━\u001b[0m\u001b[37m\u001b[0m \u001b[1m38s\u001b[0m 81ms/step - c_gp: 0.0668 - c_loss: -4.4938 - c_wass: -5.1616 - g_loss: 4.7923\n",
      "Epoch 10/200\n",
      "\u001b[1m469/469\u001b[0m \u001b[32m━━━━━━━━━━━━━━━━━━━━\u001b[0m\u001b[37m\u001b[0m \u001b[1m38s\u001b[0m 81ms/step - c_gp: 0.0659 - c_loss: -4.3808 - c_wass: -5.0399 - g_loss: 5.4789\n",
      "Epoch 11/200\n",
      "\u001b[1m469/469\u001b[0m \u001b[32m━━━━━━━━━━━━━━━━━━━━\u001b[0m\u001b[37m\u001b[0m \u001b[1m38s\u001b[0m 81ms/step - c_gp: 0.0644 - c_loss: -4.2703 - c_wass: -4.9140 - g_loss: 7.0591\n",
      "Epoch 12/200\n",
      "\u001b[1m469/469\u001b[0m \u001b[32m━━━━━━━━━━━━━━━━━━━━\u001b[0m\u001b[37m\u001b[0m \u001b[1m38s\u001b[0m 81ms/step - c_gp: 0.0617 - c_loss: -4.0577 - c_wass: -4.6744 - g_loss: 7.4303\n",
      "Epoch 13/200\n",
      "\u001b[1m469/469\u001b[0m \u001b[32m━━━━━━━━━━━━━━━━━━━━\u001b[0m\u001b[37m\u001b[0m \u001b[1m38s\u001b[0m 81ms/step - c_gp: 0.0579 - c_loss: -4.0085 - c_wass: -4.5879 - g_loss: 6.3503\n",
      "Epoch 14/200\n",
      "\u001b[1m469/469\u001b[0m \u001b[32m━━━━━━━━━━━━━━━━━━━━\u001b[0m\u001b[37m\u001b[0m \u001b[1m38s\u001b[0m 81ms/step - c_gp: 0.0557 - c_loss: -3.8869 - c_wass: -4.4442 - g_loss: 7.6392\n",
      "Epoch 15/200\n",
      "\u001b[1m469/469\u001b[0m \u001b[32m━━━━━━━━━━━━━━━━━━━━\u001b[0m\u001b[37m\u001b[0m \u001b[1m38s\u001b[0m 81ms/step - c_gp: 0.0525 - c_loss: -3.7701 - c_wass: -4.2955 - g_loss: 8.0866\n",
      "Epoch 16/200\n",
      "\u001b[1m469/469\u001b[0m \u001b[32m━━━━━━━━━━━━━━━━━━━━\u001b[0m\u001b[37m\u001b[0m \u001b[1m38s\u001b[0m 81ms/step - c_gp: 0.0509 - c_loss: -3.6933 - c_wass: -4.2018 - g_loss: 6.9703\n",
      "Epoch 17/200\n",
      "\u001b[1m469/469\u001b[0m \u001b[32m━━━━━━━━━━━━━━━━━━━━\u001b[0m\u001b[37m\u001b[0m \u001b[1m38s\u001b[0m 81ms/step - c_gp: 0.0485 - c_loss: -3.6220 - c_wass: -4.1072 - g_loss: 7.4845\n",
      "Epoch 18/200\n",
      "\u001b[1m469/469\u001b[0m \u001b[32m━━━━━━━━━━━━━━━━━━━━\u001b[0m\u001b[37m\u001b[0m \u001b[1m38s\u001b[0m 81ms/step - c_gp: 0.0463 - c_loss: -3.5235 - c_wass: -3.9865 - g_loss: 7.5477\n",
      "Epoch 19/200\n",
      "\u001b[1m469/469\u001b[0m \u001b[32m━━━━━━━━━━━━━━━━━━━━\u001b[0m\u001b[37m\u001b[0m \u001b[1m38s\u001b[0m 81ms/step - c_gp: 0.0459 - c_loss: -3.4679 - c_wass: -3.9265 - g_loss: 6.9503\n",
      "Epoch 20/200\n",
      "\u001b[1m469/469\u001b[0m \u001b[32m━━━━━━━━━━━━━━━━━━━━\u001b[0m\u001b[37m\u001b[0m \u001b[1m38s\u001b[0m 81ms/step - c_gp: 0.0443 - c_loss: -3.3515 - c_wass: -3.7942 - g_loss: 6.4914\n",
      "Epoch 21/200\n",
      "\u001b[1m469/469\u001b[0m \u001b[32m━━━━━━━━━━━━━━━━━━━━\u001b[0m\u001b[37m\u001b[0m \u001b[1m38s\u001b[0m 81ms/step - c_gp: 0.0423 - c_loss: -3.2837 - c_wass: -3.7071 - g_loss: 6.4659\n",
      "Epoch 22/200\n",
      "\u001b[1m469/469\u001b[0m \u001b[32m━━━━━━━━━━━━━━━━━━━━\u001b[0m\u001b[37m\u001b[0m \u001b[1m38s\u001b[0m 81ms/step - c_gp: 0.0416 - c_loss: -3.2510 - c_wass: -3.6674 - g_loss: 6.4800\n",
      "Epoch 23/200\n",
      "\u001b[1m469/469\u001b[0m \u001b[32m━━━━━━━━━━━━━━━━━━━━\u001b[0m\u001b[37m\u001b[0m \u001b[1m38s\u001b[0m 81ms/step - c_gp: 0.0402 - c_loss: -3.1666 - c_wass: -3.5682 - g_loss: 5.2273\n",
      "Epoch 24/200\n",
      "\u001b[1m469/469\u001b[0m \u001b[32m━━━━━━━━━━━━━━━━━━━━\u001b[0m\u001b[37m\u001b[0m \u001b[1m38s\u001b[0m 81ms/step - c_gp: 0.0391 - c_loss: -3.0820 - c_wass: -3.4727 - g_loss: 4.9513\n",
      "Epoch 25/200\n",
      "\u001b[1m469/469\u001b[0m \u001b[32m━━━━━━━━━━━━━━━━━━━━\u001b[0m\u001b[37m\u001b[0m \u001b[1m38s\u001b[0m 81ms/step - c_gp: 0.0385 - c_loss: -3.1054 - c_wass: -3.4902 - g_loss: 4.8940\n",
      "Epoch 26/200\n",
      "\u001b[1m469/469\u001b[0m \u001b[32m━━━━━━━━━━━━━━━━━━━━\u001b[0m\u001b[37m\u001b[0m \u001b[1m38s\u001b[0m 82ms/step - c_gp: 0.0377 - c_loss: -2.9885 - c_wass: -3.3658 - g_loss: 5.1681\n",
      "Epoch 27/200\n",
      "\u001b[1m469/469\u001b[0m \u001b[32m━━━━━━━━━━━━━━━━━━━━\u001b[0m\u001b[37m\u001b[0m \u001b[1m38s\u001b[0m 81ms/step - c_gp: 0.0364 - c_loss: -3.0145 - c_wass: -3.3789 - g_loss: 5.4088\n",
      "Epoch 28/200\n",
      "\u001b[1m469/469\u001b[0m \u001b[32m━━━━━━━━━━━━━━━━━━━━\u001b[0m\u001b[37m\u001b[0m \u001b[1m38s\u001b[0m 82ms/step - c_gp: 0.0353 - c_loss: -2.8934 - c_wass: -3.2462 - g_loss: 4.4160\n",
      "Epoch 29/200\n",
      "\u001b[1m469/469\u001b[0m \u001b[32m━━━━━━━━━━━━━━━━━━━━\u001b[0m\u001b[37m\u001b[0m \u001b[1m38s\u001b[0m 81ms/step - c_gp: 0.0348 - c_loss: -2.8964 - c_wass: -3.2442 - g_loss: 4.5051\n",
      "Epoch 30/200\n",
      "\u001b[1m469/469\u001b[0m \u001b[32m━━━━━━━━━━━━━━━━━━━━\u001b[0m\u001b[37m\u001b[0m \u001b[1m38s\u001b[0m 82ms/step - c_gp: 0.0345 - c_loss: -2.7986 - c_wass: -3.1439 - g_loss: 4.5767\n",
      "Epoch 31/200\n",
      "\u001b[1m469/469\u001b[0m \u001b[32m━━━━━━━━━━━━━━━━━━━━\u001b[0m\u001b[37m\u001b[0m \u001b[1m38s\u001b[0m 82ms/step - c_gp: 0.0336 - c_loss: -2.7310 - c_wass: -3.0674 - g_loss: 4.3572\n",
      "Epoch 32/200\n",
      "\u001b[1m469/469\u001b[0m \u001b[32m━━━━━━━━━━━━━━━━━━━━\u001b[0m\u001b[37m\u001b[0m \u001b[1m38s\u001b[0m 81ms/step - c_gp: 0.0330 - c_loss: -2.6970 - c_wass: -3.0270 - g_loss: 4.3169\n",
      "Epoch 33/200\n",
      "\u001b[1m469/469\u001b[0m \u001b[32m━━━━━━━━━━━━━━━━━━━━\u001b[0m\u001b[37m\u001b[0m \u001b[1m38s\u001b[0m 81ms/step - c_gp: 0.0320 - c_loss: -2.6796 - c_wass: -2.9993 - g_loss: 4.1135\n",
      "Epoch 34/200\n",
      "\u001b[1m469/469\u001b[0m \u001b[32m━━━━━━━━━━━━━━━━━━━━\u001b[0m\u001b[37m\u001b[0m \u001b[1m38s\u001b[0m 82ms/step - c_gp: 0.0312 - c_loss: -2.6495 - c_wass: -2.9619 - g_loss: 4.5678\n",
      "Epoch 35/200\n",
      "\u001b[1m469/469\u001b[0m \u001b[32m━━━━━━━━━━━━━━━━━━━━\u001b[0m\u001b[37m\u001b[0m \u001b[1m38s\u001b[0m 81ms/step - c_gp: 0.0316 - c_loss: -2.6040 - c_wass: -2.9196 - g_loss: 4.2292\n",
      "Epoch 36/200\n",
      "\u001b[1m469/469\u001b[0m \u001b[32m━━━━━━━━━━━━━━━━━━━━\u001b[0m\u001b[37m\u001b[0m \u001b[1m38s\u001b[0m 81ms/step - c_gp: 0.0301 - c_loss: -2.5946 - c_wass: -2.8957 - g_loss: 3.9239\n",
      "Epoch 37/200\n",
      "\u001b[1m469/469\u001b[0m \u001b[32m━━━━━━━━━━━━━━━━━━━━\u001b[0m\u001b[37m\u001b[0m \u001b[1m38s\u001b[0m 81ms/step - c_gp: 0.0299 - c_loss: -2.5505 - c_wass: -2.8493 - g_loss: 3.1102\n",
      "Epoch 38/200\n",
      "\u001b[1m469/469\u001b[0m \u001b[32m━━━━━━━━━━━━━━━━━━━━\u001b[0m\u001b[37m\u001b[0m \u001b[1m38s\u001b[0m 81ms/step - c_gp: 0.0298 - c_loss: -2.5027 - c_wass: -2.8007 - g_loss: 3.0998\n",
      "Epoch 39/200\n",
      "\u001b[1m469/469\u001b[0m \u001b[32m━━━━━━━━━━━━━━━━━━━━\u001b[0m\u001b[37m\u001b[0m \u001b[1m38s\u001b[0m 81ms/step - c_gp: 0.0290 - c_loss: -2.4981 - c_wass: -2.7883 - g_loss: 3.0284\n",
      "Epoch 40/200\n",
      "\u001b[1m469/469\u001b[0m \u001b[32m━━━━━━━━━━━━━━━━━━━━\u001b[0m\u001b[37m\u001b[0m \u001b[1m38s\u001b[0m 81ms/step - c_gp: 0.0281 - c_loss: -2.4189 - c_wass: -2.6996 - g_loss: 2.9165\n",
      "Epoch 41/200\n",
      "\u001b[1m469/469\u001b[0m \u001b[32m━━━━━━━━━━━━━━━━━━━━\u001b[0m\u001b[37m\u001b[0m \u001b[1m38s\u001b[0m 81ms/step - c_gp: 0.0286 - c_loss: -2.4362 - c_wass: -2.7227 - g_loss: 2.6199\n",
      "Epoch 42/200\n",
      "\u001b[1m469/469\u001b[0m \u001b[32m━━━━━━━━━━━━━━━━━━━━\u001b[0m\u001b[37m\u001b[0m \u001b[1m38s\u001b[0m 81ms/step - c_gp: 0.0278 - c_loss: -2.3675 - c_wass: -2.6451 - g_loss: 2.8009\n",
      "Epoch 43/200\n",
      "\u001b[1m469/469\u001b[0m \u001b[32m━━━━━━━━━━━━━━━━━━━━\u001b[0m\u001b[37m\u001b[0m \u001b[1m38s\u001b[0m 81ms/step - c_gp: 0.0275 - c_loss: -2.4036 - c_wass: -2.6782 - g_loss: 2.2308\n",
      "Epoch 44/200\n",
      "\u001b[1m469/469\u001b[0m \u001b[32m━━━━━━━━━━━━━━━━━━━━\u001b[0m\u001b[37m\u001b[0m \u001b[1m38s\u001b[0m 81ms/step - c_gp: 0.0271 - c_loss: -2.3789 - c_wass: -2.6504 - g_loss: 1.9402\n",
      "Epoch 45/200\n",
      "\u001b[1m469/469\u001b[0m \u001b[32m━━━━━━━━━━━━━━━━━━━━\u001b[0m\u001b[37m\u001b[0m \u001b[1m38s\u001b[0m 81ms/step - c_gp: 0.0267 - c_loss: -2.4029 - c_wass: -2.6703 - g_loss: 1.8309\n",
      "Epoch 46/200\n",
      "\u001b[1m469/469\u001b[0m \u001b[32m━━━━━━━━━━━━━━━━━━━━\u001b[0m\u001b[37m\u001b[0m \u001b[1m38s\u001b[0m 81ms/step - c_gp: 0.0261 - c_loss: -2.3091 - c_wass: -2.5698 - g_loss: 1.2977\n",
      "Epoch 47/200\n",
      "\u001b[1m469/469\u001b[0m \u001b[32m━━━━━━━━━━━━━━━━━━━━\u001b[0m\u001b[37m\u001b[0m \u001b[1m38s\u001b[0m 81ms/step - c_gp: 0.0267 - c_loss: -2.3257 - c_wass: -2.5923 - g_loss: 2.0466\n",
      "Epoch 48/200\n",
      "\u001b[1m469/469\u001b[0m \u001b[32m━━━━━━━━━━━━━━━━━━━━\u001b[0m\u001b[37m\u001b[0m \u001b[1m38s\u001b[0m 81ms/step - c_gp: 0.0261 - c_loss: -2.3297 - c_wass: -2.5910 - g_loss: 1.6115\n",
      "Epoch 49/200\n",
      "\u001b[1m469/469\u001b[0m \u001b[32m━━━━━━━━━━━━━━━━━━━━\u001b[0m\u001b[37m\u001b[0m \u001b[1m38s\u001b[0m 81ms/step - c_gp: 0.0259 - c_loss: -2.2368 - c_wass: -2.4957 - g_loss: 1.4655\n",
      "Epoch 50/200\n",
      "\u001b[1m469/469\u001b[0m \u001b[32m━━━━━━━━━━━━━━━━━━━━\u001b[0m\u001b[37m\u001b[0m \u001b[1m38s\u001b[0m 81ms/step - c_gp: 0.0257 - c_loss: -2.2534 - c_wass: -2.5108 - g_loss: 0.9228\n",
      "Epoch 51/200\n",
      "\u001b[1m469/469\u001b[0m \u001b[32m━━━━━━━━━━━━━━━━━━━━\u001b[0m\u001b[37m\u001b[0m \u001b[1m38s\u001b[0m 81ms/step - c_gp: 0.0259 - c_loss: -2.2510 - c_wass: -2.5100 - g_loss: 1.3468\n",
      "Epoch 52/200\n",
      "\u001b[1m469/469\u001b[0m \u001b[32m━━━━━━━━━━━━━━━━━━━━\u001b[0m\u001b[37m\u001b[0m \u001b[1m38s\u001b[0m 81ms/step - c_gp: 0.0255 - c_loss: -2.2413 - c_wass: -2.4964 - g_loss: 1.6723\n",
      "Epoch 53/200\n",
      "\u001b[1m469/469\u001b[0m \u001b[32m━━━━━━━━━━━━━━━━━━━━\u001b[0m\u001b[37m\u001b[0m \u001b[1m38s\u001b[0m 81ms/step - c_gp: 0.0253 - c_loss: -2.2405 - c_wass: -2.4936 - g_loss: 1.5463\n",
      "Epoch 54/200\n",
      "\u001b[1m469/469\u001b[0m \u001b[32m━━━━━━━━━━━━━━━━━━━━\u001b[0m\u001b[37m\u001b[0m \u001b[1m38s\u001b[0m 81ms/step - c_gp: 0.0244 - c_loss: -2.1716 - c_wass: -2.4159 - g_loss: 1.2607\n",
      "Epoch 55/200\n",
      "\u001b[1m469/469\u001b[0m \u001b[32m━━━━━━━━━━━━━━━━━━━━\u001b[0m\u001b[37m\u001b[0m \u001b[1m38s\u001b[0m 81ms/step - c_gp: 0.0244 - c_loss: -2.1748 - c_wass: -2.4190 - g_loss: 1.4613\n",
      "Epoch 56/200\n",
      "\u001b[1m469/469\u001b[0m \u001b[32m━━━━━━━━━━━━━━━━━━━━\u001b[0m\u001b[37m\u001b[0m \u001b[1m38s\u001b[0m 81ms/step - c_gp: 0.0242 - c_loss: -2.1295 - c_wass: -2.3716 - g_loss: 1.2454\n",
      "Epoch 57/200\n",
      "\u001b[1m469/469\u001b[0m \u001b[32m━━━━━━━━━━━━━━━━━━━━\u001b[0m\u001b[37m\u001b[0m \u001b[1m38s\u001b[0m 81ms/step - c_gp: 0.0240 - c_loss: -2.1434 - c_wass: -2.3837 - g_loss: 1.0494\n",
      "Epoch 58/200\n",
      "\u001b[1m469/469\u001b[0m \u001b[32m━━━━━━━━━━━━━━━━━━━━\u001b[0m\u001b[37m\u001b[0m \u001b[1m38s\u001b[0m 81ms/step - c_gp: 0.0241 - c_loss: -2.0705 - c_wass: -2.3111 - g_loss: 0.4089\n",
      "Epoch 59/200\n",
      "\u001b[1m469/469\u001b[0m \u001b[32m━━━━━━━━━━━━━━━━━━━━\u001b[0m\u001b[37m\u001b[0m \u001b[1m38s\u001b[0m 81ms/step - c_gp: 0.0236 - c_loss: -2.0536 - c_wass: -2.2895 - g_loss: 1.0699\n",
      "Epoch 60/200\n",
      "\u001b[1m469/469\u001b[0m \u001b[32m━━━━━━━━━━━━━━━━━━━━\u001b[0m\u001b[37m\u001b[0m \u001b[1m38s\u001b[0m 81ms/step - c_gp: 0.0232 - c_loss: -2.1168 - c_wass: -2.3486 - g_loss: 1.3718\n",
      "Epoch 61/200\n",
      "\u001b[1m469/469\u001b[0m \u001b[32m━━━━━━━━━━━━━━━━━━━━\u001b[0m\u001b[37m\u001b[0m \u001b[1m38s\u001b[0m 81ms/step - c_gp: 0.0230 - c_loss: -2.1026 - c_wass: -2.3327 - g_loss: 1.2821\n",
      "Epoch 62/200\n",
      "\u001b[1m469/469\u001b[0m \u001b[32m━━━━━━━━━━━━━━━━━━━━\u001b[0m\u001b[37m\u001b[0m \u001b[1m38s\u001b[0m 81ms/step - c_gp: 0.0231 - c_loss: -2.0800 - c_wass: -2.3106 - g_loss: 1.2421\n",
      "Epoch 63/200\n",
      "\u001b[1m469/469\u001b[0m \u001b[32m━━━━━━━━━━━━━━━━━━━━\u001b[0m\u001b[37m\u001b[0m \u001b[1m38s\u001b[0m 81ms/step - c_gp: 0.0231 - c_loss: -2.0904 - c_wass: -2.3215 - g_loss: 1.4444\n",
      "Epoch 64/200\n",
      "\u001b[1m469/469\u001b[0m \u001b[32m━━━━━━━━━━━━━━━━━━━━\u001b[0m\u001b[37m\u001b[0m \u001b[1m38s\u001b[0m 81ms/step - c_gp: 0.0224 - c_loss: -2.0083 - c_wass: -2.2325 - g_loss: 0.6657\n",
      "Epoch 65/200\n",
      "\u001b[1m469/469\u001b[0m \u001b[32m━━━━━━━━━━━━━━━━━━━━\u001b[0m\u001b[37m\u001b[0m \u001b[1m38s\u001b[0m 81ms/step - c_gp: 0.0223 - c_loss: -2.0443 - c_wass: -2.2673 - g_loss: 0.4657\n",
      "Epoch 66/200\n",
      "\u001b[1m469/469\u001b[0m \u001b[32m━━━━━━━━━━━━━━━━━━━━\u001b[0m\u001b[37m\u001b[0m \u001b[1m38s\u001b[0m 81ms/step - c_gp: 0.0229 - c_loss: -2.0147 - c_wass: -2.2436 - g_loss: 0.7296\n",
      "Epoch 67/200\n",
      "\u001b[1m469/469\u001b[0m \u001b[32m━━━━━━━━━━━━━━━━━━━━\u001b[0m\u001b[37m\u001b[0m \u001b[1m38s\u001b[0m 81ms/step - c_gp: 0.0223 - c_loss: -1.9874 - c_wass: -2.2104 - g_loss: 0.4191\n",
      "Epoch 68/200\n",
      "\u001b[1m469/469\u001b[0m \u001b[32m━━━━━━━━━━━━━━━━━━━━\u001b[0m\u001b[37m\u001b[0m \u001b[1m38s\u001b[0m 81ms/step - c_gp: 0.0221 - c_loss: -2.0049 - c_wass: -2.2263 - g_loss: 0.5333\n",
      "Epoch 69/200\n",
      "\u001b[1m469/469\u001b[0m \u001b[32m━━━━━━━━━━━━━━━━━━━━\u001b[0m\u001b[37m\u001b[0m \u001b[1m38s\u001b[0m 81ms/step - c_gp: 0.0215 - c_loss: -1.9859 - c_wass: -2.2006 - g_loss: 0.5787\n",
      "Epoch 70/200\n",
      "\u001b[1m469/469\u001b[0m \u001b[32m━━━━━━━━━━━━━━━━━━━━\u001b[0m\u001b[37m\u001b[0m \u001b[1m38s\u001b[0m 81ms/step - c_gp: 0.0218 - c_loss: -1.9437 - c_wass: -2.1620 - g_loss: 0.6433\n",
      "Epoch 71/200\n",
      "\u001b[1m469/469\u001b[0m \u001b[32m━━━━━━━━━━━━━━━━━━━━\u001b[0m\u001b[37m\u001b[0m \u001b[1m38s\u001b[0m 81ms/step - c_gp: 0.0217 - c_loss: -1.9082 - c_wass: -2.1249 - g_loss: 0.0619\n",
      "Epoch 72/200\n",
      "\u001b[1m469/469\u001b[0m \u001b[32m━━━━━━━━━━━━━━━━━━━━\u001b[0m\u001b[37m\u001b[0m \u001b[1m38s\u001b[0m 81ms/step - c_gp: 0.0219 - c_loss: -1.9199 - c_wass: -2.1389 - g_loss: 0.2471\n",
      "Epoch 73/200\n",
      "\u001b[1m469/469\u001b[0m \u001b[32m━━━━━━━━━━━━━━━━━━━━\u001b[0m\u001b[37m\u001b[0m \u001b[1m38s\u001b[0m 81ms/step - c_gp: 0.0213 - c_loss: -1.9471 - c_wass: -2.1601 - g_loss: 0.3569\n",
      "Epoch 74/200\n",
      "\u001b[1m469/469\u001b[0m \u001b[32m━━━━━━━━━━━━━━━━━━━━\u001b[0m\u001b[37m\u001b[0m \u001b[1m38s\u001b[0m 81ms/step - c_gp: 0.0214 - c_loss: -1.8922 - c_wass: -2.1060 - g_loss: 0.0950\n",
      "Epoch 75/200\n",
      "\u001b[1m469/469\u001b[0m \u001b[32m━━━━━━━━━━━━━━━━━━━━\u001b[0m\u001b[37m\u001b[0m \u001b[1m38s\u001b[0m 81ms/step - c_gp: 0.0213 - c_loss: -1.9264 - c_wass: -2.1395 - g_loss: 0.0630\n",
      "Epoch 76/200\n",
      "\u001b[1m469/469\u001b[0m \u001b[32m━━━━━━━━━━━━━━━━━━━━\u001b[0m\u001b[37m\u001b[0m \u001b[1m38s\u001b[0m 81ms/step - c_gp: 0.0211 - c_loss: -1.8909 - c_wass: -2.1014 - g_loss: 0.0278\n",
      "Epoch 77/200\n",
      "\u001b[1m469/469\u001b[0m \u001b[32m━━━━━━━━━━━━━━━━━━━━\u001b[0m\u001b[37m\u001b[0m \u001b[1m38s\u001b[0m 81ms/step - c_gp: 0.0208 - c_loss: -1.8617 - c_wass: -2.0697 - g_loss: 0.4779\n",
      "Epoch 78/200\n",
      "\u001b[1m469/469\u001b[0m \u001b[32m━━━━━━━━━━━━━━━━━━━━\u001b[0m\u001b[37m\u001b[0m \u001b[1m38s\u001b[0m 81ms/step - c_gp: 0.0209 - c_loss: -1.8772 - c_wass: -2.0864 - g_loss: 0.5249\n",
      "Epoch 79/200\n",
      "\u001b[1m469/469\u001b[0m \u001b[32m━━━━━━━━━━━━━━━━━━━━\u001b[0m\u001b[37m\u001b[0m \u001b[1m38s\u001b[0m 81ms/step - c_gp: 0.0207 - c_loss: -1.8449 - c_wass: -2.0521 - g_loss: -0.1564\n",
      "Epoch 80/200\n",
      "\u001b[1m469/469\u001b[0m \u001b[32m━━━━━━━━━━━━━━━━━━━━\u001b[0m\u001b[37m\u001b[0m \u001b[1m38s\u001b[0m 81ms/step - c_gp: 0.0204 - c_loss: -1.8690 - c_wass: -2.0735 - g_loss: -0.2461\n",
      "Epoch 81/200\n",
      "\u001b[1m469/469\u001b[0m \u001b[32m━━━━━━━━━━━━━━━━━━━━\u001b[0m\u001b[37m\u001b[0m \u001b[1m38s\u001b[0m 81ms/step - c_gp: 0.0203 - c_loss: -1.8406 - c_wass: -2.0432 - g_loss: -0.0961\n",
      "Epoch 82/200\n",
      "\u001b[1m469/469\u001b[0m \u001b[32m━━━━━━━━━━━━━━━━━━━━\u001b[0m\u001b[37m\u001b[0m \u001b[1m38s\u001b[0m 81ms/step - c_gp: 0.0201 - c_loss: -1.7978 - c_wass: -1.9990 - g_loss: -0.3021\n",
      "Epoch 83/200\n",
      "\u001b[1m469/469\u001b[0m \u001b[32m━━━━━━━━━━━━━━━━━━━━\u001b[0m\u001b[37m\u001b[0m \u001b[1m38s\u001b[0m 81ms/step - c_gp: 0.0198 - c_loss: -1.8404 - c_wass: -2.0388 - g_loss: -0.3907\n",
      "Epoch 84/200\n",
      "\u001b[1m469/469\u001b[0m \u001b[32m━━━━━━━━━━━━━━━━━━━━\u001b[0m\u001b[37m\u001b[0m \u001b[1m38s\u001b[0m 81ms/step - c_gp: 0.0199 - c_loss: -1.8225 - c_wass: -2.0212 - g_loss: 0.0145\n",
      "Epoch 85/200\n",
      "\u001b[1m469/469\u001b[0m \u001b[32m━━━━━━━━━━━━━━━━━━━━\u001b[0m\u001b[37m\u001b[0m \u001b[1m38s\u001b[0m 81ms/step - c_gp: 0.0202 - c_loss: -1.8218 - c_wass: -2.0237 - g_loss: 0.0141\n",
      "Epoch 86/200\n",
      "\u001b[1m469/469\u001b[0m \u001b[32m━━━━━━━━━━━━━━━━━━━━\u001b[0m\u001b[37m\u001b[0m \u001b[1m38s\u001b[0m 81ms/step - c_gp: 0.0193 - c_loss: -1.7391 - c_wass: -1.9326 - g_loss: -0.0726\n",
      "Epoch 87/200\n",
      "\u001b[1m469/469\u001b[0m \u001b[32m━━━━━━━━━━━━━━━━━━━━\u001b[0m\u001b[37m\u001b[0m \u001b[1m38s\u001b[0m 81ms/step - c_gp: 0.0194 - c_loss: -1.7706 - c_wass: -1.9651 - g_loss: -0.1338\n",
      "Epoch 88/200\n",
      "\u001b[1m469/469\u001b[0m \u001b[32m━━━━━━━━━━━━━━━━━━━━\u001b[0m\u001b[37m\u001b[0m \u001b[1m38s\u001b[0m 81ms/step - c_gp: 0.0192 - c_loss: -1.7354 - c_wass: -1.9272 - g_loss: -0.5311\n",
      "Epoch 89/200\n",
      "\u001b[1m469/469\u001b[0m \u001b[32m━━━━━━━━━━━━━━━━━━━━\u001b[0m\u001b[37m\u001b[0m \u001b[1m38s\u001b[0m 81ms/step - c_gp: 0.0196 - c_loss: -1.8060 - c_wass: -2.0016 - g_loss: -0.2942\n",
      "Epoch 90/200\n",
      "\u001b[1m469/469\u001b[0m \u001b[32m━━━━━━━━━━━━━━━━━━━━\u001b[0m\u001b[37m\u001b[0m \u001b[1m38s\u001b[0m 81ms/step - c_gp: 0.0196 - c_loss: -1.7564 - c_wass: -1.9520 - g_loss: 0.1900\n",
      "Epoch 91/200\n",
      "\u001b[1m469/469\u001b[0m \u001b[32m━━━━━━━━━━━━━━━━━━━━\u001b[0m\u001b[37m\u001b[0m \u001b[1m38s\u001b[0m 81ms/step - c_gp: 0.0190 - c_loss: -1.7154 - c_wass: -1.9051 - g_loss: -0.2330\n",
      "Epoch 92/200\n",
      "\u001b[1m469/469\u001b[0m \u001b[32m━━━━━━━━━━━━━━━━━━━━\u001b[0m\u001b[37m\u001b[0m \u001b[1m38s\u001b[0m 81ms/step - c_gp: 0.0188 - c_loss: -1.7248 - c_wass: -1.9131 - g_loss: 0.1905\n",
      "Epoch 93/200\n",
      "\u001b[1m469/469\u001b[0m \u001b[32m━━━━━━━━━━━━━━━━━━━━\u001b[0m\u001b[37m\u001b[0m \u001b[1m38s\u001b[0m 81ms/step - c_gp: 0.0190 - c_loss: -1.7649 - c_wass: -1.9551 - g_loss: 0.0708\n",
      "Epoch 94/200\n",
      "\u001b[1m469/469\u001b[0m \u001b[32m━━━━━━━━━━━━━━━━━━━━\u001b[0m\u001b[37m\u001b[0m \u001b[1m38s\u001b[0m 81ms/step - c_gp: 0.0192 - c_loss: -1.7297 - c_wass: -1.9213 - g_loss: 0.0097\n",
      "Epoch 95/200\n",
      "\u001b[1m469/469\u001b[0m \u001b[32m━━━━━━━━━━━━━━━━━━━━\u001b[0m\u001b[37m\u001b[0m \u001b[1m38s\u001b[0m 81ms/step - c_gp: 0.0186 - c_loss: -1.6971 - c_wass: -1.8831 - g_loss: -0.1484\n",
      "Epoch 96/200\n",
      "\u001b[1m469/469\u001b[0m \u001b[32m━━━━━━━━━━━━━━━━━━━━\u001b[0m\u001b[37m\u001b[0m \u001b[1m38s\u001b[0m 81ms/step - c_gp: 0.0184 - c_loss: -1.6998 - c_wass: -1.8836 - g_loss: -0.1487\n",
      "Epoch 97/200\n",
      "\u001b[1m469/469\u001b[0m \u001b[32m━━━━━━━━━━━━━━━━━━━━\u001b[0m\u001b[37m\u001b[0m \u001b[1m38s\u001b[0m 81ms/step - c_gp: 0.0184 - c_loss: -1.6759 - c_wass: -1.8595 - g_loss: 0.0932\n",
      "Epoch 98/200\n",
      "\u001b[1m469/469\u001b[0m \u001b[32m━━━━━━━━━━━━━━━━━━━━\u001b[0m\u001b[37m\u001b[0m \u001b[1m38s\u001b[0m 81ms/step - c_gp: 0.0186 - c_loss: -1.6909 - c_wass: -1.8766 - g_loss: 0.2743\n",
      "Epoch 99/200\n",
      "\u001b[1m469/469\u001b[0m \u001b[32m━━━━━━━━━━━━━━━━━━━━\u001b[0m\u001b[37m\u001b[0m \u001b[1m38s\u001b[0m 81ms/step - c_gp: 0.0185 - c_loss: -1.6900 - c_wass: -1.8747 - g_loss: 0.1543\n",
      "Epoch 100/200\n",
      "\u001b[1m469/469\u001b[0m \u001b[32m━━━━━━━━━━━━━━━━━━━━\u001b[0m\u001b[37m\u001b[0m \u001b[1m38s\u001b[0m 81ms/step - c_gp: 0.0183 - c_loss: -1.6409 - c_wass: -1.8242 - g_loss: -0.3693\n",
      "Epoch 101/200\n",
      "\u001b[1m469/469\u001b[0m \u001b[32m━━━━━━━━━━━━━━━━━━━━\u001b[0m\u001b[37m\u001b[0m \u001b[1m38s\u001b[0m 82ms/step - c_gp: 0.0181 - c_loss: -1.6448 - c_wass: -1.8255 - g_loss: -0.0513\n",
      "Epoch 102/200\n",
      "\u001b[1m469/469\u001b[0m \u001b[32m━━━━━━━━━━━━━━━━━━━━\u001b[0m\u001b[37m\u001b[0m \u001b[1m38s\u001b[0m 82ms/step - c_gp: 0.0183 - c_loss: -1.6961 - c_wass: -1.8792 - g_loss: 0.4195\n",
      "Epoch 103/200\n",
      "\u001b[1m469/469\u001b[0m \u001b[32m━━━━━━━━━━━━━━━━━━━━\u001b[0m\u001b[37m\u001b[0m \u001b[1m38s\u001b[0m 82ms/step - c_gp: 0.0176 - c_loss: -1.6460 - c_wass: -1.8217 - g_loss: 0.3249\n",
      "Epoch 104/200\n",
      "\u001b[1m469/469\u001b[0m \u001b[32m━━━━━━━━━━━━━━━━━━━━\u001b[0m\u001b[37m\u001b[0m \u001b[1m38s\u001b[0m 82ms/step - c_gp: 0.0180 - c_loss: -1.6008 - c_wass: -1.7806 - g_loss: 0.1764\n",
      "Epoch 105/200\n",
      "\u001b[1m469/469\u001b[0m \u001b[32m━━━━━━━━━━━━━━━━━━━━\u001b[0m\u001b[37m\u001b[0m \u001b[1m38s\u001b[0m 82ms/step - c_gp: 0.0179 - c_loss: -1.6200 - c_wass: -1.7989 - g_loss: 0.1451\n",
      "Epoch 106/200\n",
      "\u001b[1m469/469\u001b[0m \u001b[32m━━━━━━━━━━━━━━━━━━━━\u001b[0m\u001b[37m\u001b[0m \u001b[1m38s\u001b[0m 82ms/step - c_gp: 0.0177 - c_loss: -1.6275 - c_wass: -1.8048 - g_loss: 0.2108\n",
      "Epoch 107/200\n",
      "\u001b[1m469/469\u001b[0m \u001b[32m━━━━━━━━━━━━━━━━━━━━\u001b[0m\u001b[37m\u001b[0m \u001b[1m38s\u001b[0m 82ms/step - c_gp: 0.0178 - c_loss: -1.5942 - c_wass: -1.7723 - g_loss: 0.0226\n",
      "Epoch 108/200\n",
      "\u001b[1m469/469\u001b[0m \u001b[32m━━━━━━━━━━━━━━━━━━━━\u001b[0m\u001b[37m\u001b[0m \u001b[1m38s\u001b[0m 82ms/step - c_gp: 0.0174 - c_loss: -1.5958 - c_wass: -1.7698 - g_loss: 0.0657\n",
      "Epoch 109/200\n",
      "\u001b[1m469/469\u001b[0m \u001b[32m━━━━━━━━━━━━━━━━━━━━\u001b[0m\u001b[37m\u001b[0m \u001b[1m38s\u001b[0m 82ms/step - c_gp: 0.0174 - c_loss: -1.6040 - c_wass: -1.7778 - g_loss: -0.1184\n",
      "Epoch 110/200\n",
      "\u001b[1m469/469\u001b[0m \u001b[32m━━━━━━━━━━━━━━━━━━━━\u001b[0m\u001b[37m\u001b[0m \u001b[1m38s\u001b[0m 82ms/step - c_gp: 0.0170 - c_loss: -1.5806 - c_wass: -1.7503 - g_loss: -0.4301\n",
      "Epoch 111/200\n",
      "\u001b[1m469/469\u001b[0m \u001b[32m━━━━━━━━━━━━━━━━━━━━\u001b[0m\u001b[37m\u001b[0m \u001b[1m38s\u001b[0m 82ms/step - c_gp: 0.0169 - c_loss: -1.5172 - c_wass: -1.6860 - g_loss: -0.3599\n",
      "Epoch 112/200\n",
      "\u001b[1m469/469\u001b[0m \u001b[32m━━━━━━━━━━━━━━━━━━━━\u001b[0m\u001b[37m\u001b[0m \u001b[1m38s\u001b[0m 82ms/step - c_gp: 0.0169 - c_loss: -1.5715 - c_wass: -1.7410 - g_loss: -0.3575\n",
      "Epoch 113/200\n",
      "\u001b[1m469/469\u001b[0m \u001b[32m━━━━━━━━━━━━━━━━━━━━\u001b[0m\u001b[37m\u001b[0m \u001b[1m38s\u001b[0m 82ms/step - c_gp: 0.0174 - c_loss: -1.5599 - c_wass: -1.7339 - g_loss: 0.0074\n",
      "Epoch 114/200\n",
      "\u001b[1m469/469\u001b[0m \u001b[32m━━━━━━━━━━━━━━━━━━━━\u001b[0m\u001b[37m\u001b[0m \u001b[1m38s\u001b[0m 82ms/step - c_gp: 0.0166 - c_loss: -1.5286 - c_wass: -1.6950 - g_loss: -0.1640\n",
      "Epoch 115/200\n",
      "\u001b[1m469/469\u001b[0m \u001b[32m━━━━━━━━━━━━━━━━━━━━\u001b[0m\u001b[37m\u001b[0m \u001b[1m38s\u001b[0m 81ms/step - c_gp: 0.0169 - c_loss: -1.5481 - c_wass: -1.7168 - g_loss: -0.0705\n",
      "Epoch 116/200\n",
      "\u001b[1m469/469\u001b[0m \u001b[32m━━━━━━━━━━━━━━━━━━━━\u001b[0m\u001b[37m\u001b[0m \u001b[1m38s\u001b[0m 81ms/step - c_gp: 0.0169 - c_loss: -1.5352 - c_wass: -1.7040 - g_loss: 0.0768\n",
      "Epoch 117/200\n",
      "\u001b[1m469/469\u001b[0m \u001b[32m━━━━━━━━━━━━━━━━━━━━\u001b[0m\u001b[37m\u001b[0m \u001b[1m38s\u001b[0m 81ms/step - c_gp: 0.0168 - c_loss: -1.5466 - c_wass: -1.7143 - g_loss: 0.1510\n",
      "Epoch 118/200\n",
      "\u001b[1m469/469\u001b[0m \u001b[32m━━━━━━━━━━━━━━━━━━━━\u001b[0m\u001b[37m\u001b[0m \u001b[1m39s\u001b[0m 82ms/step - c_gp: 0.0170 - c_loss: -1.4976 - c_wass: -1.6673 - g_loss: -0.1055\n",
      "Epoch 119/200\n",
      "\u001b[1m469/469\u001b[0m \u001b[32m━━━━━━━━━━━━━━━━━━━━\u001b[0m\u001b[37m\u001b[0m \u001b[1m38s\u001b[0m 82ms/step - c_gp: 0.0165 - c_loss: -1.5129 - c_wass: -1.6774 - g_loss: -0.1669\n",
      "Epoch 120/200\n",
      "\u001b[1m469/469\u001b[0m \u001b[32m━━━━━━━━━━━━━━━━━━━━\u001b[0m\u001b[37m\u001b[0m \u001b[1m38s\u001b[0m 82ms/step - c_gp: 0.0166 - c_loss: -1.4956 - c_wass: -1.6612 - g_loss: -0.0695\n",
      "Epoch 121/200\n",
      "\u001b[1m469/469\u001b[0m \u001b[32m━━━━━━━━━━━━━━━━━━━━\u001b[0m\u001b[37m\u001b[0m \u001b[1m38s\u001b[0m 82ms/step - c_gp: 0.0164 - c_loss: -1.5095 - c_wass: -1.6735 - g_loss: -0.2415\n",
      "Epoch 122/200\n",
      "\u001b[1m469/469\u001b[0m \u001b[32m━━━━━━━━━━━━━━━━━━━━\u001b[0m\u001b[37m\u001b[0m \u001b[1m39s\u001b[0m 82ms/step - c_gp: 0.0166 - c_loss: -1.4813 - c_wass: -1.6468 - g_loss: -0.3622\n",
      "Epoch 123/200\n",
      "\u001b[1m469/469\u001b[0m \u001b[32m━━━━━━━━━━━━━━━━━━━━\u001b[0m\u001b[37m\u001b[0m \u001b[1m38s\u001b[0m 82ms/step - c_gp: 0.0163 - c_loss: -1.4856 - c_wass: -1.6488 - g_loss: -0.4991\n",
      "Epoch 124/200\n",
      "\u001b[1m469/469\u001b[0m \u001b[32m━━━━━━━━━━━━━━━━━━━━\u001b[0m\u001b[37m\u001b[0m \u001b[1m38s\u001b[0m 82ms/step - c_gp: 0.0159 - c_loss: -1.4702 - c_wass: -1.6297 - g_loss: -0.0997\n",
      "Epoch 125/200\n",
      "\u001b[1m469/469\u001b[0m \u001b[32m━━━━━━━━━━━━━━━━━━━━\u001b[0m\u001b[37m\u001b[0m \u001b[1m38s\u001b[0m 82ms/step - c_gp: 0.0160 - c_loss: -1.4714 - c_wass: -1.6312 - g_loss: -0.0749\n",
      "Epoch 126/200\n",
      "\u001b[1m469/469\u001b[0m \u001b[32m━━━━━━━━━━━━━━━━━━━━\u001b[0m\u001b[37m\u001b[0m \u001b[1m38s\u001b[0m 82ms/step - c_gp: 0.0161 - c_loss: -1.4972 - c_wass: -1.6586 - g_loss: -0.1108\n",
      "Epoch 127/200\n",
      "\u001b[1m469/469\u001b[0m \u001b[32m━━━━━━━━━━━━━━━━━━━━\u001b[0m\u001b[37m\u001b[0m \u001b[1m38s\u001b[0m 81ms/step - c_gp: 0.0162 - c_loss: -1.4729 - c_wass: -1.6348 - g_loss: -0.0735\n",
      "Epoch 128/200\n",
      "\u001b[1m469/469\u001b[0m \u001b[32m━━━━━━━━━━━━━━━━━━━━\u001b[0m\u001b[37m\u001b[0m \u001b[1m38s\u001b[0m 81ms/step - c_gp: 0.0161 - c_loss: -1.4946 - c_wass: -1.6555 - g_loss: -0.3432\n",
      "Epoch 129/200\n",
      "\u001b[1m469/469\u001b[0m \u001b[32m━━━━━━━━━━━━━━━━━━━━\u001b[0m\u001b[37m\u001b[0m \u001b[1m38s\u001b[0m 81ms/step - c_gp: 0.0158 - c_loss: -1.4751 - c_wass: -1.6333 - g_loss: -0.3649\n",
      "Epoch 130/200\n",
      "\u001b[1m469/469\u001b[0m \u001b[32m━━━━━━━━━━━━━━━━━━━━\u001b[0m\u001b[37m\u001b[0m \u001b[1m38s\u001b[0m 81ms/step - c_gp: 0.0159 - c_loss: -1.4626 - c_wass: -1.6213 - g_loss: -0.3064\n",
      "Epoch 131/200\n",
      "\u001b[1m469/469\u001b[0m \u001b[32m━━━━━━━━━━━━━━━━━━━━\u001b[0m\u001b[37m\u001b[0m \u001b[1m38s\u001b[0m 81ms/step - c_gp: 0.0160 - c_loss: -1.4550 - c_wass: -1.6153 - g_loss: -0.4482\n",
      "Epoch 132/200\n",
      "\u001b[1m469/469\u001b[0m \u001b[32m━━━━━━━━━━━━━━━━━━━━\u001b[0m\u001b[37m\u001b[0m \u001b[1m38s\u001b[0m 81ms/step - c_gp: 0.0154 - c_loss: -1.4320 - c_wass: -1.5863 - g_loss: -0.3369\n",
      "Epoch 133/200\n",
      "\u001b[1m469/469\u001b[0m \u001b[32m━━━━━━━━━━━━━━━━━━━━\u001b[0m\u001b[37m\u001b[0m \u001b[1m38s\u001b[0m 81ms/step - c_gp: 0.0155 - c_loss: -1.4317 - c_wass: -1.5867 - g_loss: -0.3463\n",
      "Epoch 134/200\n",
      "\u001b[1m469/469\u001b[0m \u001b[32m━━━━━━━━━━━━━━━━━━━━\u001b[0m\u001b[37m\u001b[0m \u001b[1m38s\u001b[0m 81ms/step - c_gp: 0.0155 - c_loss: -1.3960 - c_wass: -1.5506 - g_loss: -0.3681\n",
      "Epoch 135/200\n",
      "\u001b[1m469/469\u001b[0m \u001b[32m━━━━━━━━━━━━━━━━━━━━\u001b[0m\u001b[37m\u001b[0m \u001b[1m38s\u001b[0m 81ms/step - c_gp: 0.0154 - c_loss: -1.4077 - c_wass: -1.5617 - g_loss: -0.5231\n",
      "Epoch 136/200\n",
      "\u001b[1m469/469\u001b[0m \u001b[32m━━━━━━━━━━━━━━━━━━━━\u001b[0m\u001b[37m\u001b[0m \u001b[1m38s\u001b[0m 81ms/step - c_gp: 0.0157 - c_loss: -1.4575 - c_wass: -1.6144 - g_loss: -0.5123\n",
      "Epoch 137/200\n",
      "\u001b[1m469/469\u001b[0m \u001b[32m━━━━━━━━━━━━━━━━━━━━\u001b[0m\u001b[37m\u001b[0m \u001b[1m38s\u001b[0m 81ms/step - c_gp: 0.0152 - c_loss: -1.4053 - c_wass: -1.5573 - g_loss: -0.1188\n",
      "Epoch 138/200\n",
      "\u001b[1m469/469\u001b[0m \u001b[32m━━━━━━━━━━━━━━━━━━━━\u001b[0m\u001b[37m\u001b[0m \u001b[1m38s\u001b[0m 81ms/step - c_gp: 0.0150 - c_loss: -1.4169 - c_wass: -1.5665 - g_loss: 0.0136\n",
      "Epoch 139/200\n",
      "\u001b[1m469/469\u001b[0m \u001b[32m━━━━━━━━━━━━━━━━━━━━\u001b[0m\u001b[37m\u001b[0m \u001b[1m38s\u001b[0m 81ms/step - c_gp: 0.0153 - c_loss: -1.4105 - c_wass: -1.5640 - g_loss: -0.2869\n",
      "Epoch 140/200\n",
      "\u001b[1m469/469\u001b[0m \u001b[32m━━━━━━━━━━━━━━━━━━━━\u001b[0m\u001b[37m\u001b[0m \u001b[1m38s\u001b[0m 81ms/step - c_gp: 0.0150 - c_loss: -1.4140 - c_wass: -1.5645 - g_loss: -0.4094\n",
      "Epoch 141/200\n",
      "\u001b[1m469/469\u001b[0m \u001b[32m━━━━━━━━━━━━━━━━━━━━\u001b[0m\u001b[37m\u001b[0m \u001b[1m38s\u001b[0m 81ms/step - c_gp: 0.0151 - c_loss: -1.3912 - c_wass: -1.5426 - g_loss: -0.3762\n",
      "Epoch 142/200\n",
      "\u001b[1m469/469\u001b[0m \u001b[32m━━━━━━━━━━━━━━━━━━━━\u001b[0m\u001b[37m\u001b[0m \u001b[1m38s\u001b[0m 81ms/step - c_gp: 0.0150 - c_loss: -1.3751 - c_wass: -1.5250 - g_loss: -0.2878\n",
      "Epoch 143/200\n",
      "\u001b[1m469/469\u001b[0m \u001b[32m━━━━━━━━━━━━━━━━━━━━\u001b[0m\u001b[37m\u001b[0m \u001b[1m38s\u001b[0m 81ms/step - c_gp: 0.0153 - c_loss: -1.3832 - c_wass: -1.5364 - g_loss: -0.4350\n",
      "Epoch 144/200\n",
      "\u001b[1m469/469\u001b[0m \u001b[32m━━━━━━━━━━━━━━━━━━━━\u001b[0m\u001b[37m\u001b[0m \u001b[1m38s\u001b[0m 81ms/step - c_gp: 0.0149 - c_loss: -1.3792 - c_wass: -1.5277 - g_loss: -0.3513\n",
      "Epoch 145/200\n",
      "\u001b[1m469/469\u001b[0m \u001b[32m━━━━━━━━━━━━━━━━━━━━\u001b[0m\u001b[37m\u001b[0m \u001b[1m38s\u001b[0m 81ms/step - c_gp: 0.0148 - c_loss: -1.3699 - c_wass: -1.5184 - g_loss: -0.5313\n",
      "Epoch 146/200\n",
      "\u001b[1m469/469\u001b[0m \u001b[32m━━━━━━━━━━━━━━━━━━━━\u001b[0m\u001b[37m\u001b[0m \u001b[1m38s\u001b[0m 81ms/step - c_gp: 0.0147 - c_loss: -1.3507 - c_wass: -1.4980 - g_loss: -0.0767\n",
      "Epoch 147/200\n",
      "\u001b[1m469/469\u001b[0m \u001b[32m━━━━━━━━━━━━━━━━━━━━\u001b[0m\u001b[37m\u001b[0m \u001b[1m38s\u001b[0m 81ms/step - c_gp: 0.0145 - c_loss: -1.3841 - c_wass: -1.5293 - g_loss: -0.1171\n",
      "Epoch 148/200\n",
      "\u001b[1m469/469\u001b[0m \u001b[32m━━━━━━━━━━━━━━━━━━━━\u001b[0m\u001b[37m\u001b[0m \u001b[1m38s\u001b[0m 81ms/step - c_gp: 0.0145 - c_loss: -1.3713 - c_wass: -1.5167 - g_loss: -0.0453\n",
      "Epoch 149/200\n",
      "\u001b[1m469/469\u001b[0m \u001b[32m━━━━━━━━━━━━━━━━━━━━\u001b[0m\u001b[37m\u001b[0m \u001b[1m38s\u001b[0m 81ms/step - c_gp: 0.0147 - c_loss: -1.3511 - c_wass: -1.4977 - g_loss: -0.0895\n",
      "Epoch 150/200\n",
      "\u001b[1m469/469\u001b[0m \u001b[32m━━━━━━━━━━━━━━━━━━━━\u001b[0m\u001b[37m\u001b[0m \u001b[1m38s\u001b[0m 81ms/step - c_gp: 0.0144 - c_loss: -1.3293 - c_wass: -1.4733 - g_loss: -0.3494\n",
      "Epoch 151/200\n",
      "\u001b[1m469/469\u001b[0m \u001b[32m━━━━━━━━━━━━━━━━━━━━\u001b[0m\u001b[37m\u001b[0m \u001b[1m38s\u001b[0m 81ms/step - c_gp: 0.0145 - c_loss: -1.3502 - c_wass: -1.4952 - g_loss: -0.1451\n",
      "Epoch 152/200\n",
      "\u001b[1m469/469\u001b[0m \u001b[32m━━━━━━━━━━━━━━━━━━━━\u001b[0m\u001b[37m\u001b[0m \u001b[1m38s\u001b[0m 81ms/step - c_gp: 0.0144 - c_loss: -1.3063 - c_wass: -1.4499 - g_loss: -0.0315\n",
      "Epoch 153/200\n",
      "\u001b[1m469/469\u001b[0m \u001b[32m━━━━━━━━━━━━━━━━━━━━\u001b[0m\u001b[37m\u001b[0m \u001b[1m38s\u001b[0m 81ms/step - c_gp: 0.0144 - c_loss: -1.3360 - c_wass: -1.4805 - g_loss: -0.0037\n",
      "Epoch 154/200\n",
      "\u001b[1m469/469\u001b[0m \u001b[32m━━━━━━━━━━━━━━━━━━━━\u001b[0m\u001b[37m\u001b[0m \u001b[1m38s\u001b[0m 81ms/step - c_gp: 0.0145 - c_loss: -1.3387 - c_wass: -1.4834 - g_loss: -0.2813\n",
      "Epoch 155/200\n",
      "\u001b[1m469/469\u001b[0m \u001b[32m━━━━━━━━━━━━━━━━━━━━\u001b[0m\u001b[37m\u001b[0m \u001b[1m38s\u001b[0m 81ms/step - c_gp: 0.0143 - c_loss: -1.3398 - c_wass: -1.4830 - g_loss: -0.1942\n",
      "Epoch 156/200\n",
      "\u001b[1m469/469\u001b[0m \u001b[32m━━━━━━━━━━━━━━━━━━━━\u001b[0m\u001b[37m\u001b[0m \u001b[1m38s\u001b[0m 81ms/step - c_gp: 0.0143 - c_loss: -1.3295 - c_wass: -1.4726 - g_loss: -0.2096\n",
      "Epoch 157/200\n",
      "\u001b[1m469/469\u001b[0m \u001b[32m━━━━━━━━━━━━━━━━━━━━\u001b[0m\u001b[37m\u001b[0m \u001b[1m38s\u001b[0m 82ms/step - c_gp: 0.0142 - c_loss: -1.3470 - c_wass: -1.4886 - g_loss: -0.2184\n",
      "Epoch 158/200\n",
      "\u001b[1m469/469\u001b[0m \u001b[32m━━━━━━━━━━━━━━━━━━━━\u001b[0m\u001b[37m\u001b[0m \u001b[1m39s\u001b[0m 82ms/step - c_gp: 0.0140 - c_loss: -1.3083 - c_wass: -1.4484 - g_loss: -0.1953\n",
      "Epoch 159/200\n",
      "\u001b[1m469/469\u001b[0m \u001b[32m━━━━━━━━━━━━━━━━━━━━\u001b[0m\u001b[37m\u001b[0m \u001b[1m38s\u001b[0m 82ms/step - c_gp: 0.0142 - c_loss: -1.3296 - c_wass: -1.4711 - g_loss: -0.3173\n",
      "Epoch 160/200\n",
      "\u001b[1m469/469\u001b[0m \u001b[32m━━━━━━━━━━━━━━━━━━━━\u001b[0m\u001b[37m\u001b[0m \u001b[1m38s\u001b[0m 82ms/step - c_gp: 0.0138 - c_loss: -1.3114 - c_wass: -1.4497 - g_loss: -0.4550\n",
      "Epoch 161/200\n",
      "\u001b[1m469/469\u001b[0m \u001b[32m━━━━━━━━━━━━━━━━━━━━\u001b[0m\u001b[37m\u001b[0m \u001b[1m38s\u001b[0m 82ms/step - c_gp: 0.0132 - c_loss: -1.2547 - c_wass: -1.3863 - g_loss: -0.4626\n",
      "Epoch 174/200\n",
      "\u001b[1m469/469\u001b[0m \u001b[32m━━━━━━━━━━━━━━━━━━━━\u001b[0m\u001b[37m\u001b[0m \u001b[1m38s\u001b[0m 82ms/step - c_gp: 0.0135 - c_loss: -1.2462 - c_wass: -1.3809 - g_loss: -0.4746\n",
      "Epoch 175/200\n",
      "\u001b[1m469/469\u001b[0m \u001b[32m━━━━━━━━━━━━━━━━━━━━\u001b[0m\u001b[37m\u001b[0m \u001b[1m38s\u001b[0m 81ms/step - c_gp: 0.0130 - c_loss: -1.2535 - c_wass: -1.3832 - g_loss: -0.3654\n",
      "Epoch 176/200\n",
      "\u001b[1m469/469\u001b[0m \u001b[32m━━━━━━━━━━━━━━━━━━━━\u001b[0m\u001b[37m\u001b[0m \u001b[1m38s\u001b[0m 81ms/step - c_gp: 0.0134 - c_loss: -1.2693 - c_wass: -1.4030 - g_loss: -0.1110\n",
      "Epoch 177/200\n",
      "\u001b[1m469/469\u001b[0m \u001b[32m━━━━━━━━━━━━━━━━━━━━\u001b[0m\u001b[37m\u001b[0m \u001b[1m38s\u001b[0m 81ms/step - c_gp: 0.0133 - c_loss: -1.2522 - c_wass: -1.3851 - g_loss: -0.4139\n",
      "Epoch 178/200\n",
      "\u001b[1m469/469\u001b[0m \u001b[32m━━━━━━━━━━━━━━━━━━━━\u001b[0m\u001b[37m\u001b[0m \u001b[1m38s\u001b[0m 81ms/step - c_gp: 0.0130 - c_loss: -1.2493 - c_wass: -1.3792 - g_loss: -0.2851\n",
      "Epoch 179/200\n",
      "\u001b[1m469/469\u001b[0m \u001b[32m━━━━━━━━━━━━━━━━━━━━\u001b[0m\u001b[37m\u001b[0m \u001b[1m38s\u001b[0m 81ms/step - c_gp: 0.0127 - c_loss: -1.2536 - c_wass: -1.3802 - g_loss: -0.2468\n",
      "Epoch 182/200\n",
      "\u001b[1m469/469\u001b[0m \u001b[32m━━━━━━━━━━━━━━━━━━━━\u001b[0m\u001b[37m\u001b[0m \u001b[1m38s\u001b[0m 82ms/step - c_gp: 0.0128 - c_loss: -1.1941 - c_wass: -1.3216 - g_loss: -0.4211\n",
      "Epoch 183/200\n",
      "\u001b[1m469/469\u001b[0m \u001b[32m━━━━━━━━━━━━━━━━━━━━\u001b[0m\u001b[37m\u001b[0m \u001b[1m38s\u001b[0m 82ms/step - c_gp: 0.0131 - c_loss: -1.2334 - c_wass: -1.3640 - g_loss: -0.4073\n",
      "Epoch 184/200\n",
      "\u001b[1m469/469\u001b[0m \u001b[32m━━━━━━━━━━━━━━━━━━━━\u001b[0m\u001b[37m\u001b[0m \u001b[1m38s\u001b[0m 81ms/step - c_gp: 0.0128 - c_loss: -1.2091 - c_wass: -1.3369 - g_loss: -0.3491\n",
      "Epoch 186/200\n",
      "\u001b[1m469/469\u001b[0m \u001b[32m━━━━━━━━━━━━━━━━━━━━\u001b[0m\u001b[37m\u001b[0m \u001b[1m38s\u001b[0m 81ms/step - c_gp: 0.0126 - c_loss: -1.2349 - c_wass: -1.3613 - g_loss: -0.4296\n",
      "Epoch 187/200\n",
      "\u001b[1m469/469\u001b[0m \u001b[32m━━━━━━━━━━━━━━━━━━━━\u001b[0m\u001b[37m\u001b[0m \u001b[1m38s\u001b[0m 81ms/step - c_gp: 0.0128 - c_loss: -1.2419 - c_wass: -1.3701 - g_loss: -0.5704\n",
      "Epoch 188/200\n",
      "\u001b[1m469/469\u001b[0m \u001b[32m━━━━━━━━━━━━━━━━━━━━\u001b[0m\u001b[37m\u001b[0m \u001b[1m38s\u001b[0m 81ms/step - c_gp: 0.0126 - c_loss: -1.1924 - c_wass: -1.3183 - g_loss: -0.3826\n",
      "Epoch 189/200\n",
      "\u001b[1m469/469\u001b[0m \u001b[32m━━━━━━━━━━━━━━━━━━━━\u001b[0m\u001b[37m\u001b[0m \u001b[1m38s\u001b[0m 81ms/step - c_gp: 0.0129 - c_loss: -1.2208 - c_wass: -1.3494 - g_loss: -0.5408\n",
      "Epoch 191/200\n",
      "\u001b[1m469/469\u001b[0m \u001b[32m━━━━━━━━━━━━━━━━━━━━\u001b[0m\u001b[37m\u001b[0m \u001b[1m38s\u001b[0m 81ms/step - c_gp: 0.0128 - c_loss: -1.1793 - c_wass: -1.3069 - g_loss: -0.6755\n",
      "Epoch 192/200\n",
      "\u001b[1m469/469\u001b[0m \u001b[32m━━━━━━━━━━━━━━━━━━━━\u001b[0m\u001b[37m\u001b[0m \u001b[1m38s\u001b[0m 81ms/step - c_gp: 0.0123 - c_loss: -1.1904 - c_wass: -1.3134 - g_loss: -0.4124\n",
      "Epoch 193/200\n",
      "\u001b[1m469/469\u001b[0m \u001b[32m━━━━━━━━━━━━━━━━━━━━\u001b[0m\u001b[37m\u001b[0m \u001b[1m38s\u001b[0m 81ms/step - c_gp: 0.0125 - c_loss: -1.1903 - c_wass: -1.3156 - g_loss: -0.3478\n",
      "Epoch 194/200\n",
      "\u001b[1m469/469\u001b[0m \u001b[32m━━━━━━━━━━━━━━━━━━━━\u001b[0m\u001b[37m\u001b[0m \u001b[1m38s\u001b[0m 80ms/step - c_gp: 0.0123 - c_loss: -1.1683 - c_wass: -1.2911 - g_loss: -0.3469\n",
      "Epoch 197/200\n",
      "\u001b[1m469/469\u001b[0m \u001b[32m━━━━━━━━━━━━━━━━━━━━\u001b[0m\u001b[37m\u001b[0m \u001b[1m38s\u001b[0m 81ms/step - c_gp: 0.0125 - c_loss: -1.1932 - c_wass: -1.3177 - g_loss: -0.2609\n",
      "Epoch 198/200\n",
      "\u001b[1m469/469\u001b[0m \u001b[32m━━━━━━━━━━━━━━━━━━━━\u001b[0m\u001b[37m\u001b[0m \u001b[1m38s\u001b[0m 81ms/step - c_gp: 0.0122 - c_loss: -1.1836 - c_wass: -1.3052 - g_loss: -0.1566\n",
      "Epoch 199/200\n",
      "\u001b[1m415/469\u001b[0m \u001b[32m━━━━━━━━━━━━━━━━━\u001b[0m\u001b[37m━━━\u001b[0m \u001b[1m4s\u001b[0m 81ms/step - c_gp: 0.0122 - c_loss: -1.1581 - c_wass: -1.2800 - g_loss: -0.1729"
     ]
    }
   ],
   "source": [
    "history = redFASHIONWGAN.fit(x_train, epochs=200,callbacks = [ModelMonitor()],batch_size=128) #d_loss y g_loss deben equilibrarse"
   ]
  },
  {
   "cell_type": "code",
   "execution_count": 24,
   "metadata": {
    "execution": {
     "iopub.execute_input": "2025-05-03T12:19:49.482085Z",
     "iopub.status.busy": "2025-05-03T12:19:49.481392Z",
     "iopub.status.idle": "2025-05-03T12:19:49.641996Z",
     "shell.execute_reply": "2025-05-03T12:19:49.641346Z",
     "shell.execute_reply.started": "2025-05-03T12:19:49.482062Z"
    },
    "trusted": true
   },
   "outputs": [
    {
     "data": {
      "image/png": "[encoded data removed]",
      "text/plain": [
       "<Figure size 640x480 with 1 Axes>"
      ]
     },
     "metadata": {},
     "output_type": "display_data"
    }
   ],
   "source": [
    "import matplotlib.pyplot as plt\n",
    "d_loss_values = history.history['c_loss']\n",
    "g_loss_values =history.history['g_loss']\n",
    "s = history.history['g_loss']\n",
    "plt.plot(d_loss_values, label='c_loss')\n",
    "plt.plot(g_loss_values, label='g_loss')\n",
    "plt.title('Pérdida d_loss y g_loss durante el entrenamiento')\n",
    "plt.xlabel('Épocas')\n",
    "plt.ylabel('losses')\n",
    "plt.legend()\n",
    "plt.show()"
   ]
  },
  {
   "cell_type": "code",
   "execution_count": null,
   "metadata": {
    "execution": {
     "iopub.execute_input": "2025-05-03T12:19:54.498154Z",
     "iopub.status.busy": "2025-05-03T12:19:54.497885Z",
     "iopub.status.idle": "2025-05-03T12:19:55.694923Z",
     "shell.execute_reply": "2025-05-03T12:19:55.694167Z",
     "shell.execute_reply.started": "2025-05-03T12:19:54.498135Z"
    },
    "trusted": true
   },
   "outputs": [
    {
     "data": {
      "image/png": "[encoded data removed]",
      "text/plain": [
       "<Figure size 1500x2500 with 20 Axes>"
      ]
     },
     "metadata": {},
     "output_type": "display_data"
    }
   ],
   "source": [
    "import os\n",
    "import matplotlib.pyplot as plt\n",
    "from PIL import Image\n",
    "\n",
    "image_paths = [\n",
    "    '/kaggle/working/resultados/generated_img_9_0.png',\n",
    "    '/kaggle/working/resultados/generated_img_9_1.png',\n",
    "    '/kaggle/working/resultados/generated_img_9_2.png',\n",
    "    '/kaggle/working/resultados/generated_img_9_3.png',\n",
    "    '/kaggle/working/resultados/generated_img_49_0.png',\n",
    "    '/kaggle/working/resultados/generated_img_49_1.png',\n",
    "    '/kaggle/working/resultados/generated_img_49_2.png',\n",
    "    '/kaggle/working/resultados/generated_img_49_3.png',\n",
    "    '/kaggle/working/resultados/generated_img_99_0.png',\n",
    "    '/kaggle/working/resultados/generated_img_99_1.png',\n",
    "    '/kaggle/working/resultados/generated_img_99_2.png',\n",
    "    '/kaggle/working/resultados/generated_img_99_3.png',\n",
    "    '/kaggle/working/resultados/generated_img_149_0.png',\n",
    "    '/kaggle/working/resultados/generated_img_149_1.png',\n",
    "    '/kaggle/working/resultados/generated_img_149_2.png',\n",
    "    '/kaggle/working/resultados/generated_img_149_3.png',\n",
    "    '/kaggle/working/resultados/generated_img_199_0.png',\n",
    "    '/kaggle/working/resultados/generated_img_199_1.png',\n",
    "    '/kaggle/working/resultados/generated_img_199_2.png',\n",
    "    '/kaggle/working/resultados/generated_img_199_3.png',\n",
    "]\n",
    "\n",
    "\n",
    "num_images = len(image_paths)\n",
    "\n",
    "num_cols = 4\n",
    "num_rows = (num_images + num_cols - 1) // num_cols  \n",
    "\n",
    "fig, axes = plt.subplots(num_rows, num_cols, figsize=(15, 5 * num_rows))\n",
    "\n",
    "axes = axes.flatten()\n",
    "\n",
    "for i, image_path in enumerate(image_paths):\n",
    "    try:\n",
    "        img = Image.open(image_path)\n",
    "        axes[i].imshow(img)\n",
    "        axes[i].axis('off') \n",
    "        if i < 3:\n",
    "            axes[i].set_title('ÉPOCA 10')  \n",
    "        elif i < 6:\n",
    "            axes[i].set_title('ÉPOCA 50')  \n",
    "        elif i <9:\n",
    "            axes[i].set_title('ÉPOCA 100')\n",
    "        elif i<12:\n",
    "            axes[i].set_title('ÉPOCA 150')\n",
    "        else:\n",
    "            axes[i].set_title('ÉPOCA 200')\n",
    "    except Exception as e:\n",
    "        print(f\"Error cargando la imagen {image_path}: {e}\")\n",
    "\n",
    "for j in range(i + 1, len(axes)):\n",
    "    axes[j].axis('off')\n",
    "\n",
    "plt.tight_layout()\n",
    "\n",
    "plt.show()\n"
   ]
  }
 ],
 "metadata": {
  "accelerator": "GPU",
  "colab": {
   "gpuType": "T4",
   "provenance": []
  },
  "kaggle": {
   "accelerator": "gpu",
   "dataSources": [],
   "dockerImageVersionId": 31011,
   "isGpuEnabled": true,
   "isInternetEnabled": true,
   "language": "python",
   "sourceType": "notebook"
  },
  "kernelspec": {
   "display_name": "Python 3",
   "language": "python",
   "name": "python3"
  },
  "language_info": {
   "codemirror_mode": {
    "name": "ipython",
    "version": 3
   },
   "file_extension": ".py",
   "mimetype": "text/x-python",
   "name": "python",
   "nbconvert_exporter": "python",
   "pygments_lexer": "ipython3",
   "version": "3.11.11"
  }
 },
 "nbformat": 4,
 "nbformat_minor": 4
}
